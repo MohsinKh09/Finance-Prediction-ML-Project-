{
 "cells": [
  {
   "cell_type": "markdown",
   "id": "f9d595ee",
   "metadata": {},
   "source": [
    "# Finance Prediction"
   ]
  },
  {
   "cell_type": "markdown",
   "id": "d0fb5edd",
   "metadata": {},
   "source": [
    "### 1) Importing all the required libraries"
   ]
  },
  {
   "cell_type": "code",
   "execution_count": 1,
   "id": "e09d451c",
   "metadata": {
    "_cell_guid": "b1076dfc-b9ad-4769-8c92-a6c4dae69d19",
    "_uuid": "8f2839f25d086af736a60e9eeb907d3b93b6e0e5",
    "execution": {
     "iopub.execute_input": "2023-10-06T18:59:35.101458Z",
     "iopub.status.busy": "2023-10-06T18:59:35.100773Z",
     "iopub.status.idle": "2023-10-06T18:59:35.908108Z",
     "shell.execute_reply": "2023-10-06T18:59:35.907088Z"
    },
    "papermill": {
     "duration": 0.825495,
     "end_time": "2023-10-06T18:59:35.910790",
     "exception": false,
     "start_time": "2023-10-06T18:59:35.085295",
     "status": "completed"
    },
    "tags": []
   },
   "outputs": [],
   "source": [
    "import numpy as np\n",
    "import pandas as pd\n",
    "import matplotlib.pyplot as plt\n",
    "import seaborn as sns\n",
    "import warnings\n",
    "warnings.filterwarnings('ignore')"
   ]
  },
  {
   "cell_type": "markdown",
   "id": "e8c00f9f",
   "metadata": {
    "execution": {
     "iopub.execute_input": "2023-10-06T16:32:37.237039Z",
     "iopub.status.busy": "2023-10-06T16:32:37.236604Z",
     "iopub.status.idle": "2023-10-06T16:32:37.242302Z",
     "shell.execute_reply": "2023-10-06T16:32:37.241129Z",
     "shell.execute_reply.started": "2023-10-06T16:32:37.237002Z"
    },
    "papermill": {
     "duration": 0.009961,
     "end_time": "2023-10-06T18:59:37.549717",
     "exception": false,
     "start_time": "2023-10-06T18:59:37.539756",
     "status": "completed"
    },
    "tags": []
   },
   "source": [
    "### 2) Data loading"
   ]
  },
  {
   "cell_type": "code",
   "execution_count": 2,
   "id": "669b1d42",
   "metadata": {
    "execution": {
     "iopub.execute_input": "2023-10-06T18:59:37.572787Z",
     "iopub.status.busy": "2023-10-06T18:59:37.572383Z",
     "iopub.status.idle": "2023-10-06T18:59:37.624901Z",
     "shell.execute_reply": "2023-10-06T18:59:37.623776Z"
    },
    "papermill": {
     "duration": 0.067155,
     "end_time": "2023-10-06T18:59:37.627329",
     "exception": false,
     "start_time": "2023-10-06T18:59:37.560174",
     "status": "completed"
    },
    "tags": []
   },
   "outputs": [
    {
     "data": {
      "text/html": [
       "<div>\n",
       "<style scoped>\n",
       "    .dataframe tbody tr th:only-of-type {\n",
       "        vertical-align: middle;\n",
       "    }\n",
       "\n",
       "    .dataframe tbody tr th {\n",
       "        vertical-align: top;\n",
       "    }\n",
       "\n",
       "    .dataframe thead th {\n",
       "        text-align: right;\n",
       "    }\n",
       "</style>\n",
       "<table border=\"1\" class=\"dataframe\">\n",
       "  <thead>\n",
       "    <tr style=\"text-align: right;\">\n",
       "      <th></th>\n",
       "      <th>Loan_ID</th>\n",
       "      <th>Gender</th>\n",
       "      <th>Married</th>\n",
       "      <th>Dependents</th>\n",
       "      <th>Education</th>\n",
       "      <th>Self_Employed</th>\n",
       "      <th>ApplicantIncome</th>\n",
       "      <th>CoapplicantIncome</th>\n",
       "      <th>LoanAmount</th>\n",
       "      <th>Loan_Amount_Term</th>\n",
       "      <th>Credit_History</th>\n",
       "      <th>Property_Area</th>\n",
       "      <th>Loan_Status</th>\n",
       "    </tr>\n",
       "  </thead>\n",
       "  <tbody>\n",
       "    <tr>\n",
       "      <th>0</th>\n",
       "      <td>LP001002</td>\n",
       "      <td>Male</td>\n",
       "      <td>No</td>\n",
       "      <td>0</td>\n",
       "      <td>Graduate</td>\n",
       "      <td>No</td>\n",
       "      <td>5849</td>\n",
       "      <td>0.0</td>\n",
       "      <td>NaN</td>\n",
       "      <td>360.0</td>\n",
       "      <td>1.0</td>\n",
       "      <td>Urban</td>\n",
       "      <td>Y</td>\n",
       "    </tr>\n",
       "    <tr>\n",
       "      <th>1</th>\n",
       "      <td>LP001003</td>\n",
       "      <td>Male</td>\n",
       "      <td>Yes</td>\n",
       "      <td>1</td>\n",
       "      <td>Graduate</td>\n",
       "      <td>No</td>\n",
       "      <td>4583</td>\n",
       "      <td>1508.0</td>\n",
       "      <td>128.0</td>\n",
       "      <td>360.0</td>\n",
       "      <td>1.0</td>\n",
       "      <td>Rural</td>\n",
       "      <td>N</td>\n",
       "    </tr>\n",
       "    <tr>\n",
       "      <th>2</th>\n",
       "      <td>LP001005</td>\n",
       "      <td>Male</td>\n",
       "      <td>Yes</td>\n",
       "      <td>0</td>\n",
       "      <td>Graduate</td>\n",
       "      <td>Yes</td>\n",
       "      <td>3000</td>\n",
       "      <td>0.0</td>\n",
       "      <td>66.0</td>\n",
       "      <td>360.0</td>\n",
       "      <td>1.0</td>\n",
       "      <td>Urban</td>\n",
       "      <td>Y</td>\n",
       "    </tr>\n",
       "    <tr>\n",
       "      <th>3</th>\n",
       "      <td>LP001006</td>\n",
       "      <td>Male</td>\n",
       "      <td>Yes</td>\n",
       "      <td>0</td>\n",
       "      <td>Not Graduate</td>\n",
       "      <td>No</td>\n",
       "      <td>2583</td>\n",
       "      <td>2358.0</td>\n",
       "      <td>120.0</td>\n",
       "      <td>360.0</td>\n",
       "      <td>1.0</td>\n",
       "      <td>Urban</td>\n",
       "      <td>Y</td>\n",
       "    </tr>\n",
       "    <tr>\n",
       "      <th>4</th>\n",
       "      <td>LP001008</td>\n",
       "      <td>Male</td>\n",
       "      <td>No</td>\n",
       "      <td>0</td>\n",
       "      <td>Graduate</td>\n",
       "      <td>No</td>\n",
       "      <td>6000</td>\n",
       "      <td>0.0</td>\n",
       "      <td>141.0</td>\n",
       "      <td>360.0</td>\n",
       "      <td>1.0</td>\n",
       "      <td>Urban</td>\n",
       "      <td>Y</td>\n",
       "    </tr>\n",
       "    <tr>\n",
       "      <th>...</th>\n",
       "      <td>...</td>\n",
       "      <td>...</td>\n",
       "      <td>...</td>\n",
       "      <td>...</td>\n",
       "      <td>...</td>\n",
       "      <td>...</td>\n",
       "      <td>...</td>\n",
       "      <td>...</td>\n",
       "      <td>...</td>\n",
       "      <td>...</td>\n",
       "      <td>...</td>\n",
       "      <td>...</td>\n",
       "      <td>...</td>\n",
       "    </tr>\n",
       "    <tr>\n",
       "      <th>609</th>\n",
       "      <td>LP002978</td>\n",
       "      <td>Female</td>\n",
       "      <td>No</td>\n",
       "      <td>0</td>\n",
       "      <td>Graduate</td>\n",
       "      <td>No</td>\n",
       "      <td>2900</td>\n",
       "      <td>0.0</td>\n",
       "      <td>71.0</td>\n",
       "      <td>360.0</td>\n",
       "      <td>1.0</td>\n",
       "      <td>Rural</td>\n",
       "      <td>Y</td>\n",
       "    </tr>\n",
       "    <tr>\n",
       "      <th>610</th>\n",
       "      <td>LP002979</td>\n",
       "      <td>Male</td>\n",
       "      <td>Yes</td>\n",
       "      <td>3+</td>\n",
       "      <td>Graduate</td>\n",
       "      <td>No</td>\n",
       "      <td>4106</td>\n",
       "      <td>0.0</td>\n",
       "      <td>40.0</td>\n",
       "      <td>180.0</td>\n",
       "      <td>1.0</td>\n",
       "      <td>Rural</td>\n",
       "      <td>Y</td>\n",
       "    </tr>\n",
       "    <tr>\n",
       "      <th>611</th>\n",
       "      <td>LP002983</td>\n",
       "      <td>Male</td>\n",
       "      <td>Yes</td>\n",
       "      <td>1</td>\n",
       "      <td>Graduate</td>\n",
       "      <td>No</td>\n",
       "      <td>8072</td>\n",
       "      <td>240.0</td>\n",
       "      <td>253.0</td>\n",
       "      <td>360.0</td>\n",
       "      <td>1.0</td>\n",
       "      <td>Urban</td>\n",
       "      <td>Y</td>\n",
       "    </tr>\n",
       "    <tr>\n",
       "      <th>612</th>\n",
       "      <td>LP002984</td>\n",
       "      <td>Male</td>\n",
       "      <td>Yes</td>\n",
       "      <td>2</td>\n",
       "      <td>Graduate</td>\n",
       "      <td>No</td>\n",
       "      <td>7583</td>\n",
       "      <td>0.0</td>\n",
       "      <td>187.0</td>\n",
       "      <td>360.0</td>\n",
       "      <td>1.0</td>\n",
       "      <td>Urban</td>\n",
       "      <td>Y</td>\n",
       "    </tr>\n",
       "    <tr>\n",
       "      <th>613</th>\n",
       "      <td>LP002990</td>\n",
       "      <td>Female</td>\n",
       "      <td>No</td>\n",
       "      <td>0</td>\n",
       "      <td>Graduate</td>\n",
       "      <td>Yes</td>\n",
       "      <td>4583</td>\n",
       "      <td>0.0</td>\n",
       "      <td>133.0</td>\n",
       "      <td>360.0</td>\n",
       "      <td>0.0</td>\n",
       "      <td>Semiurban</td>\n",
       "      <td>N</td>\n",
       "    </tr>\n",
       "  </tbody>\n",
       "</table>\n",
       "<p>614 rows × 13 columns</p>\n",
       "</div>"
      ],
      "text/plain": [
       "      Loan_ID  Gender Married Dependents     Education Self_Employed  \\\n",
       "0    LP001002    Male      No          0      Graduate            No   \n",
       "1    LP001003    Male     Yes          1      Graduate            No   \n",
       "2    LP001005    Male     Yes          0      Graduate           Yes   \n",
       "3    LP001006    Male     Yes          0  Not Graduate            No   \n",
       "4    LP001008    Male      No          0      Graduate            No   \n",
       "..        ...     ...     ...        ...           ...           ...   \n",
       "609  LP002978  Female      No          0      Graduate            No   \n",
       "610  LP002979    Male     Yes         3+      Graduate            No   \n",
       "611  LP002983    Male     Yes          1      Graduate            No   \n",
       "612  LP002984    Male     Yes          2      Graduate            No   \n",
       "613  LP002990  Female      No          0      Graduate           Yes   \n",
       "\n",
       "     ApplicantIncome  CoapplicantIncome  LoanAmount  Loan_Amount_Term  \\\n",
       "0               5849                0.0         NaN             360.0   \n",
       "1               4583             1508.0       128.0             360.0   \n",
       "2               3000                0.0        66.0             360.0   \n",
       "3               2583             2358.0       120.0             360.0   \n",
       "4               6000                0.0       141.0             360.0   \n",
       "..               ...                ...         ...               ...   \n",
       "609             2900                0.0        71.0             360.0   \n",
       "610             4106                0.0        40.0             180.0   \n",
       "611             8072              240.0       253.0             360.0   \n",
       "612             7583                0.0       187.0             360.0   \n",
       "613             4583                0.0       133.0             360.0   \n",
       "\n",
       "     Credit_History Property_Area Loan_Status  \n",
       "0               1.0         Urban           Y  \n",
       "1               1.0         Rural           N  \n",
       "2               1.0         Urban           Y  \n",
       "3               1.0         Urban           Y  \n",
       "4               1.0         Urban           Y  \n",
       "..              ...           ...         ...  \n",
       "609             1.0         Rural           Y  \n",
       "610             1.0         Rural           Y  \n",
       "611             1.0         Urban           Y  \n",
       "612             1.0         Urban           Y  \n",
       "613             0.0     Semiurban           N  \n",
       "\n",
       "[614 rows x 13 columns]"
      ]
     },
     "execution_count": 2,
     "metadata": {},
     "output_type": "execute_result"
    }
   ],
   "source": [
    "#load data\n",
    "df = pd.read_csv('Finance_prediction.csv')\n",
    "\n",
    "# display data\n",
    "df"
   ]
  },
  {
   "cell_type": "markdown",
   "id": "063a15d7",
   "metadata": {
    "execution": {
     "iopub.execute_input": "2023-10-06T16:32:12.682115Z",
     "iopub.status.busy": "2023-10-06T16:32:12.681703Z",
     "iopub.status.idle": "2023-10-06T16:32:12.687443Z",
     "shell.execute_reply": "2023-10-06T16:32:12.686169Z",
     "shell.execute_reply.started": "2023-10-06T16:32:12.682085Z"
    },
    "papermill": {
     "duration": 0.010198,
     "end_time": "2023-10-06T18:59:37.651060",
     "exception": false,
     "start_time": "2023-10-06T18:59:37.640862",
     "status": "completed"
    },
    "tags": []
   },
   "source": [
    "### 3) Data Profiling"
   ]
  },
  {
   "cell_type": "code",
   "execution_count": 3,
   "id": "318f6974",
   "metadata": {
    "execution": {
     "iopub.execute_input": "2023-10-06T18:59:37.674495Z",
     "iopub.status.busy": "2023-10-06T18:59:37.674092Z",
     "iopub.status.idle": "2023-10-06T18:59:37.700854Z",
     "shell.execute_reply": "2023-10-06T18:59:37.699028Z"
    },
    "papermill": {
     "duration": 0.041242,
     "end_time": "2023-10-06T18:59:37.703140",
     "exception": false,
     "start_time": "2023-10-06T18:59:37.661898",
     "status": "completed"
    },
    "tags": []
   },
   "outputs": [
    {
     "name": "stdout",
     "output_type": "stream",
     "text": [
      "<class 'pandas.core.frame.DataFrame'>\n",
      "RangeIndex: 614 entries, 0 to 613\n",
      "Data columns (total 13 columns):\n",
      " #   Column             Non-Null Count  Dtype  \n",
      "---  ------             --------------  -----  \n",
      " 0   Loan_ID            614 non-null    object \n",
      " 1   Gender             601 non-null    object \n",
      " 2   Married            611 non-null    object \n",
      " 3   Dependents         599 non-null    object \n",
      " 4   Education          614 non-null    object \n",
      " 5   Self_Employed      582 non-null    object \n",
      " 6   ApplicantIncome    614 non-null    int64  \n",
      " 7   CoapplicantIncome  614 non-null    float64\n",
      " 8   LoanAmount         592 non-null    float64\n",
      " 9   Loan_Amount_Term   600 non-null    float64\n",
      " 10  Credit_History     564 non-null    float64\n",
      " 11  Property_Area      614 non-null    object \n",
      " 12  Loan_Status        614 non-null    object \n",
      "dtypes: float64(4), int64(1), object(8)\n",
      "memory usage: 62.5+ KB\n"
     ]
    }
   ],
   "source": [
    "df.info()"
   ]
  },
  {
   "cell_type": "code",
   "execution_count": 4,
   "id": "ac3460cd",
   "metadata": {
    "execution": {
     "iopub.execute_input": "2023-10-06T18:59:37.727413Z",
     "iopub.status.busy": "2023-10-06T18:59:37.727001Z",
     "iopub.status.idle": "2023-10-06T18:59:37.739464Z",
     "shell.execute_reply": "2023-10-06T18:59:37.738502Z"
    },
    "papermill": {
     "duration": 0.026936,
     "end_time": "2023-10-06T18:59:37.741682",
     "exception": false,
     "start_time": "2023-10-06T18:59:37.714746",
     "status": "completed"
    },
    "tags": []
   },
   "outputs": [
    {
     "data": {
      "text/plain": [
       "Loan_ID              614\n",
       "Gender                 2\n",
       "Married                2\n",
       "Dependents             4\n",
       "Education              2\n",
       "Self_Employed          2\n",
       "ApplicantIncome      505\n",
       "CoapplicantIncome    287\n",
       "LoanAmount           203\n",
       "Loan_Amount_Term      10\n",
       "Credit_History         2\n",
       "Property_Area          3\n",
       "Loan_Status            2\n",
       "dtype: int64"
      ]
     },
     "execution_count": 4,
     "metadata": {},
     "output_type": "execute_result"
    }
   ],
   "source": [
    "df.nunique()"
   ]
  },
  {
   "cell_type": "code",
   "execution_count": 5,
   "id": "0e572dff",
   "metadata": {
    "execution": {
     "iopub.execute_input": "2023-10-06T18:59:37.766136Z",
     "iopub.status.busy": "2023-10-06T18:59:37.765381Z",
     "iopub.status.idle": "2023-10-06T18:59:37.773582Z",
     "shell.execute_reply": "2023-10-06T18:59:37.772581Z"
    },
    "papermill": {
     "duration": 0.022781,
     "end_time": "2023-10-06T18:59:37.775527",
     "exception": false,
     "start_time": "2023-10-06T18:59:37.752746",
     "status": "completed"
    },
    "tags": []
   },
   "outputs": [
    {
     "data": {
      "text/plain": [
       "Loan_ID               0\n",
       "Gender               13\n",
       "Married               3\n",
       "Dependents           15\n",
       "Education             0\n",
       "Self_Employed        32\n",
       "ApplicantIncome       0\n",
       "CoapplicantIncome     0\n",
       "LoanAmount           22\n",
       "Loan_Amount_Term     14\n",
       "Credit_History       50\n",
       "Property_Area         0\n",
       "Loan_Status           0\n",
       "dtype: int64"
      ]
     },
     "execution_count": 5,
     "metadata": {},
     "output_type": "execute_result"
    }
   ],
   "source": [
    "#checking if there is missing rows\n",
    "df.isna().sum()"
   ]
  },
  {
   "cell_type": "code",
   "execution_count": 6,
   "id": "77a5a2d9",
   "metadata": {
    "execution": {
     "iopub.execute_input": "2023-10-06T18:59:37.799888Z",
     "iopub.status.busy": "2023-10-06T18:59:37.798873Z",
     "iopub.status.idle": "2023-10-06T18:59:37.824804Z",
     "shell.execute_reply": "2023-10-06T18:59:37.823729Z"
    },
    "papermill": {
     "duration": 0.040319,
     "end_time": "2023-10-06T18:59:37.826914",
     "exception": false,
     "start_time": "2023-10-06T18:59:37.786595",
     "status": "completed"
    },
    "tags": []
   },
   "outputs": [
    {
     "data": {
      "text/html": [
       "<div>\n",
       "<style scoped>\n",
       "    .dataframe tbody tr th:only-of-type {\n",
       "        vertical-align: middle;\n",
       "    }\n",
       "\n",
       "    .dataframe tbody tr th {\n",
       "        vertical-align: top;\n",
       "    }\n",
       "\n",
       "    .dataframe thead th {\n",
       "        text-align: right;\n",
       "    }\n",
       "</style>\n",
       "<table border=\"1\" class=\"dataframe\">\n",
       "  <thead>\n",
       "    <tr style=\"text-align: right;\">\n",
       "      <th></th>\n",
       "      <th>ApplicantIncome</th>\n",
       "      <th>CoapplicantIncome</th>\n",
       "      <th>LoanAmount</th>\n",
       "      <th>Loan_Amount_Term</th>\n",
       "      <th>Credit_History</th>\n",
       "    </tr>\n",
       "  </thead>\n",
       "  <tbody>\n",
       "    <tr>\n",
       "      <th>count</th>\n",
       "      <td>614.000000</td>\n",
       "      <td>614.000000</td>\n",
       "      <td>592.000000</td>\n",
       "      <td>600.00000</td>\n",
       "      <td>564.000000</td>\n",
       "    </tr>\n",
       "    <tr>\n",
       "      <th>mean</th>\n",
       "      <td>5403.459283</td>\n",
       "      <td>1621.245798</td>\n",
       "      <td>146.412162</td>\n",
       "      <td>342.00000</td>\n",
       "      <td>0.842199</td>\n",
       "    </tr>\n",
       "    <tr>\n",
       "      <th>std</th>\n",
       "      <td>6109.041673</td>\n",
       "      <td>2926.248369</td>\n",
       "      <td>85.587325</td>\n",
       "      <td>65.12041</td>\n",
       "      <td>0.364878</td>\n",
       "    </tr>\n",
       "    <tr>\n",
       "      <th>min</th>\n",
       "      <td>150.000000</td>\n",
       "      <td>0.000000</td>\n",
       "      <td>9.000000</td>\n",
       "      <td>12.00000</td>\n",
       "      <td>0.000000</td>\n",
       "    </tr>\n",
       "    <tr>\n",
       "      <th>25%</th>\n",
       "      <td>2877.500000</td>\n",
       "      <td>0.000000</td>\n",
       "      <td>100.000000</td>\n",
       "      <td>360.00000</td>\n",
       "      <td>1.000000</td>\n",
       "    </tr>\n",
       "    <tr>\n",
       "      <th>50%</th>\n",
       "      <td>3812.500000</td>\n",
       "      <td>1188.500000</td>\n",
       "      <td>128.000000</td>\n",
       "      <td>360.00000</td>\n",
       "      <td>1.000000</td>\n",
       "    </tr>\n",
       "    <tr>\n",
       "      <th>75%</th>\n",
       "      <td>5795.000000</td>\n",
       "      <td>2297.250000</td>\n",
       "      <td>168.000000</td>\n",
       "      <td>360.00000</td>\n",
       "      <td>1.000000</td>\n",
       "    </tr>\n",
       "    <tr>\n",
       "      <th>max</th>\n",
       "      <td>81000.000000</td>\n",
       "      <td>41667.000000</td>\n",
       "      <td>700.000000</td>\n",
       "      <td>480.00000</td>\n",
       "      <td>1.000000</td>\n",
       "    </tr>\n",
       "  </tbody>\n",
       "</table>\n",
       "</div>"
      ],
      "text/plain": [
       "       ApplicantIncome  CoapplicantIncome  LoanAmount  Loan_Amount_Term  \\\n",
       "count       614.000000         614.000000  592.000000         600.00000   \n",
       "mean       5403.459283        1621.245798  146.412162         342.00000   \n",
       "std        6109.041673        2926.248369   85.587325          65.12041   \n",
       "min         150.000000           0.000000    9.000000          12.00000   \n",
       "25%        2877.500000           0.000000  100.000000         360.00000   \n",
       "50%        3812.500000        1188.500000  128.000000         360.00000   \n",
       "75%        5795.000000        2297.250000  168.000000         360.00000   \n",
       "max       81000.000000       41667.000000  700.000000         480.00000   \n",
       "\n",
       "       Credit_History  \n",
       "count      564.000000  \n",
       "mean         0.842199  \n",
       "std          0.364878  \n",
       "min          0.000000  \n",
       "25%          1.000000  \n",
       "50%          1.000000  \n",
       "75%          1.000000  \n",
       "max          1.000000  "
      ]
     },
     "execution_count": 6,
     "metadata": {},
     "output_type": "execute_result"
    }
   ],
   "source": [
    "df.describe()"
   ]
  },
  {
   "cell_type": "code",
   "execution_count": 7,
   "id": "d13db4bb",
   "metadata": {
    "execution": {
     "iopub.execute_input": "2023-10-06T18:59:37.851940Z",
     "iopub.status.busy": "2023-10-06T18:59:37.850996Z",
     "iopub.status.idle": "2023-10-06T18:59:37.862337Z",
     "shell.execute_reply": "2023-10-06T18:59:37.861395Z"
    },
    "papermill": {
     "duration": 0.025988,
     "end_time": "2023-10-06T18:59:37.864225",
     "exception": false,
     "start_time": "2023-10-06T18:59:37.838237",
     "status": "completed"
    },
    "tags": []
   },
   "outputs": [
    {
     "data": {
      "text/plain": [
       "0"
      ]
     },
     "execution_count": 7,
     "metadata": {},
     "output_type": "execute_result"
    }
   ],
   "source": [
    "#check total duplicated rows\n",
    "df.duplicated().sum()"
   ]
  },
  {
   "cell_type": "markdown",
   "id": "78c3ed60",
   "metadata": {
    "execution": {
     "iopub.execute_input": "2023-10-06T17:07:55.625642Z",
     "iopub.status.busy": "2023-10-06T17:07:55.625174Z",
     "iopub.status.idle": "2023-10-06T17:07:55.630869Z",
     "shell.execute_reply": "2023-10-06T17:07:55.629676Z",
     "shell.execute_reply.started": "2023-10-06T17:07:55.625606Z"
    },
    "papermill": {
     "duration": 0.010673,
     "end_time": "2023-10-06T18:59:37.886077",
     "exception": false,
     "start_time": "2023-10-06T18:59:37.875404",
     "status": "completed"
    },
    "tags": []
   },
   "source": [
    "### 4) Data Cleaning"
   ]
  },
  {
   "cell_type": "code",
   "execution_count": 8,
   "id": "568743fb",
   "metadata": {
    "execution": {
     "iopub.execute_input": "2023-10-06T18:59:37.980058Z",
     "iopub.status.busy": "2023-10-06T18:59:37.979665Z",
     "iopub.status.idle": "2023-10-06T18:59:37.990032Z",
     "shell.execute_reply": "2023-10-06T18:59:37.988361Z"
    },
    "papermill": {
     "duration": 0.094918,
     "end_time": "2023-10-06T18:59:37.992513",
     "exception": false,
     "start_time": "2023-10-06T18:59:37.897595",
     "status": "completed"
    },
    "tags": []
   },
   "outputs": [
    {
     "data": {
      "text/plain": [
       "Loan_ID               0\n",
       "Gender               13\n",
       "Married               3\n",
       "Dependents           15\n",
       "Education             0\n",
       "Self_Employed        32\n",
       "ApplicantIncome       0\n",
       "CoapplicantIncome     0\n",
       "LoanAmount           22\n",
       "Loan_Amount_Term     14\n",
       "Credit_History       50\n",
       "Property_Area         0\n",
       "Loan_Status           0\n",
       "dtype: int64"
      ]
     },
     "execution_count": 8,
     "metadata": {},
     "output_type": "execute_result"
    }
   ],
   "source": [
    "df.isna().sum()"
   ]
  },
  {
   "cell_type": "code",
   "execution_count": 9,
   "id": "23ce3dd7",
   "metadata": {
    "execution": {
     "iopub.execute_input": "2023-10-06T18:59:38.020768Z",
     "iopub.status.busy": "2023-10-06T18:59:38.019316Z",
     "iopub.status.idle": "2023-10-06T18:59:38.029055Z",
     "shell.execute_reply": "2023-10-06T18:59:38.027834Z"
    },
    "papermill": {
     "duration": 0.026571,
     "end_time": "2023-10-06T18:59:38.031365",
     "exception": false,
     "start_time": "2023-10-06T18:59:38.004794",
     "status": "completed"
    },
    "tags": []
   },
   "outputs": [
    {
     "data": {
      "text/plain": [
       "Male      489\n",
       "Female    112\n",
       "Name: Gender, dtype: int64"
      ]
     },
     "execution_count": 9,
     "metadata": {},
     "output_type": "execute_result"
    }
   ],
   "source": [
    "df.Gender.value_counts()"
   ]
  },
  {
   "cell_type": "code",
   "execution_count": 10,
   "id": "46ead82f",
   "metadata": {
    "execution": {
     "iopub.execute_input": "2023-10-06T18:59:38.058687Z",
     "iopub.status.busy": "2023-10-06T18:59:38.057915Z",
     "iopub.status.idle": "2023-10-06T18:59:38.064404Z",
     "shell.execute_reply": "2023-10-06T18:59:38.063324Z"
    },
    "papermill": {
     "duration": 0.022175,
     "end_time": "2023-10-06T18:59:38.066528",
     "exception": false,
     "start_time": "2023-10-06T18:59:38.044353",
     "status": "completed"
    },
    "tags": []
   },
   "outputs": [],
   "source": [
    "df['Gender'].fillna('Female',inplace=True)"
   ]
  },
  {
   "cell_type": "code",
   "execution_count": 11,
   "id": "991e98ee",
   "metadata": {
    "execution": {
     "iopub.execute_input": "2023-10-06T18:59:38.094910Z",
     "iopub.status.busy": "2023-10-06T18:59:38.094224Z",
     "iopub.status.idle": "2023-10-06T18:59:38.105286Z",
     "shell.execute_reply": "2023-10-06T18:59:38.103714Z"
    },
    "papermill": {
     "duration": 0.027691,
     "end_time": "2023-10-06T18:59:38.107636",
     "exception": false,
     "start_time": "2023-10-06T18:59:38.079945",
     "status": "completed"
    },
    "tags": []
   },
   "outputs": [
    {
     "data": {
      "text/plain": [
       "Yes    398\n",
       "No     213\n",
       "Name: Married, dtype: int64"
      ]
     },
     "execution_count": 11,
     "metadata": {},
     "output_type": "execute_result"
    }
   ],
   "source": [
    "df.Married.value_counts()"
   ]
  },
  {
   "cell_type": "code",
   "execution_count": 12,
   "id": "cd8b8e95",
   "metadata": {
    "execution": {
     "iopub.execute_input": "2023-10-06T18:59:38.135610Z",
     "iopub.status.busy": "2023-10-06T18:59:38.134581Z",
     "iopub.status.idle": "2023-10-06T18:59:38.141171Z",
     "shell.execute_reply": "2023-10-06T18:59:38.139767Z"
    },
    "papermill": {
     "duration": 0.023293,
     "end_time": "2023-10-06T18:59:38.143826",
     "exception": false,
     "start_time": "2023-10-06T18:59:38.120533",
     "status": "completed"
    },
    "tags": []
   },
   "outputs": [],
   "source": [
    "df['Married'].fillna('No',inplace=True)"
   ]
  },
  {
   "cell_type": "code",
   "execution_count": 13,
   "id": "d7d4f6b7",
   "metadata": {
    "execution": {
     "iopub.execute_input": "2023-10-06T18:59:38.170473Z",
     "iopub.status.busy": "2023-10-06T18:59:38.169351Z",
     "iopub.status.idle": "2023-10-06T18:59:38.178711Z",
     "shell.execute_reply": "2023-10-06T18:59:38.177549Z"
    },
    "papermill": {
     "duration": 0.025382,
     "end_time": "2023-10-06T18:59:38.181191",
     "exception": false,
     "start_time": "2023-10-06T18:59:38.155809",
     "status": "completed"
    },
    "tags": []
   },
   "outputs": [],
   "source": [
    "df['Dependents'].fillna(df['Dependents'].mode(),inplace=True)"
   ]
  },
  {
   "cell_type": "code",
   "execution_count": 14,
   "id": "d48d59c4",
   "metadata": {
    "execution": {
     "iopub.execute_input": "2023-10-06T18:59:38.206083Z",
     "iopub.status.busy": "2023-10-06T18:59:38.205721Z",
     "iopub.status.idle": "2023-10-06T18:59:38.213783Z",
     "shell.execute_reply": "2023-10-06T18:59:38.212656Z"
    },
    "papermill": {
     "duration": 0.022908,
     "end_time": "2023-10-06T18:59:38.215823",
     "exception": false,
     "start_time": "2023-10-06T18:59:38.192915",
     "status": "completed"
    },
    "tags": []
   },
   "outputs": [
    {
     "data": {
      "text/plain": [
       "No     500\n",
       "Yes     82\n",
       "Name: Self_Employed, dtype: int64"
      ]
     },
     "execution_count": 14,
     "metadata": {},
     "output_type": "execute_result"
    }
   ],
   "source": [
    "df.Self_Employed.value_counts()"
   ]
  },
  {
   "cell_type": "code",
   "execution_count": 15,
   "id": "4eb1ca52",
   "metadata": {
    "execution": {
     "iopub.execute_input": "2023-10-06T18:59:38.241807Z",
     "iopub.status.busy": "2023-10-06T18:59:38.241143Z",
     "iopub.status.idle": "2023-10-06T18:59:38.245752Z",
     "shell.execute_reply": "2023-10-06T18:59:38.245060Z"
    },
    "papermill": {
     "duration": 0.020018,
     "end_time": "2023-10-06T18:59:38.247805",
     "exception": false,
     "start_time": "2023-10-06T18:59:38.227787",
     "status": "completed"
    },
    "tags": []
   },
   "outputs": [],
   "source": [
    "df['Self_Employed'].fillna('Yes',inplace=True)"
   ]
  },
  {
   "cell_type": "code",
   "execution_count": 16,
   "id": "596286a1",
   "metadata": {
    "execution": {
     "iopub.execute_input": "2023-10-06T18:59:38.273335Z",
     "iopub.status.busy": "2023-10-06T18:59:38.272687Z",
     "iopub.status.idle": "2023-10-06T18:59:38.279104Z",
     "shell.execute_reply": "2023-10-06T18:59:38.277977Z"
    },
    "papermill": {
     "duration": 0.021929,
     "end_time": "2023-10-06T18:59:38.281463",
     "exception": false,
     "start_time": "2023-10-06T18:59:38.259534",
     "status": "completed"
    },
    "tags": []
   },
   "outputs": [],
   "source": [
    "df['LoanAmount'].fillna(df['LoanAmount'].median(),inplace=True)\n",
    "df['Loan_Amount_Term'].fillna(df['Loan_Amount_Term'].median(),inplace=True)"
   ]
  },
  {
   "cell_type": "code",
   "execution_count": 17,
   "id": "6c3e94a8",
   "metadata": {
    "execution": {
     "iopub.execute_input": "2023-10-06T18:59:38.306709Z",
     "iopub.status.busy": "2023-10-06T18:59:38.306323Z",
     "iopub.status.idle": "2023-10-06T18:59:38.314979Z",
     "shell.execute_reply": "2023-10-06T18:59:38.314027Z"
    },
    "papermill": {
     "duration": 0.023675,
     "end_time": "2023-10-06T18:59:38.316957",
     "exception": false,
     "start_time": "2023-10-06T18:59:38.293282",
     "status": "completed"
    },
    "tags": []
   },
   "outputs": [
    {
     "data": {
      "text/plain": [
       "1.0    475\n",
       "0.0     89\n",
       "Name: Credit_History, dtype: int64"
      ]
     },
     "execution_count": 17,
     "metadata": {},
     "output_type": "execute_result"
    }
   ],
   "source": [
    "df.Credit_History.value_counts()"
   ]
  },
  {
   "cell_type": "code",
   "execution_count": 18,
   "id": "c288ee3d",
   "metadata": {
    "execution": {
     "iopub.execute_input": "2023-10-06T18:59:38.342430Z",
     "iopub.status.busy": "2023-10-06T18:59:38.342037Z",
     "iopub.status.idle": "2023-10-06T18:59:38.348221Z",
     "shell.execute_reply": "2023-10-06T18:59:38.347242Z"
    },
    "papermill": {
     "duration": 0.021404,
     "end_time": "2023-10-06T18:59:38.350275",
     "exception": false,
     "start_time": "2023-10-06T18:59:38.328871",
     "status": "completed"
    },
    "tags": []
   },
   "outputs": [],
   "source": [
    "df['Credit_History'].fillna(df['Credit_History'].median(),inplace=True)"
   ]
  },
  {
   "cell_type": "code",
   "execution_count": 19,
   "id": "d6783be5",
   "metadata": {
    "execution": {
     "iopub.execute_input": "2023-10-06T18:59:38.375655Z",
     "iopub.status.busy": "2023-10-06T18:59:38.375303Z",
     "iopub.status.idle": "2023-10-06T18:59:38.380842Z",
     "shell.execute_reply": "2023-10-06T18:59:38.379757Z"
    },
    "papermill": {
     "duration": 0.020616,
     "end_time": "2023-10-06T18:59:38.382985",
     "exception": false,
     "start_time": "2023-10-06T18:59:38.362369",
     "status": "completed"
    },
    "tags": []
   },
   "outputs": [],
   "source": [
    "df['Dependents'].fillna('0',inplace=True)"
   ]
  },
  {
   "cell_type": "code",
   "execution_count": 20,
   "id": "ff6f04cf",
   "metadata": {
    "execution": {
     "iopub.execute_input": "2023-10-06T18:59:38.409035Z",
     "iopub.status.busy": "2023-10-06T18:59:38.407937Z",
     "iopub.status.idle": "2023-10-06T18:59:38.416978Z",
     "shell.execute_reply": "2023-10-06T18:59:38.415736Z"
    },
    "papermill": {
     "duration": 0.024116,
     "end_time": "2023-10-06T18:59:38.419221",
     "exception": false,
     "start_time": "2023-10-06T18:59:38.395105",
     "status": "completed"
    },
    "tags": []
   },
   "outputs": [
    {
     "data": {
      "text/plain": [
       "Loan_ID              0\n",
       "Gender               0\n",
       "Married              0\n",
       "Dependents           0\n",
       "Education            0\n",
       "Self_Employed        0\n",
       "ApplicantIncome      0\n",
       "CoapplicantIncome    0\n",
       "LoanAmount           0\n",
       "Loan_Amount_Term     0\n",
       "Credit_History       0\n",
       "Property_Area        0\n",
       "Loan_Status          0\n",
       "dtype: int64"
      ]
     },
     "execution_count": 20,
     "metadata": {},
     "output_type": "execute_result"
    }
   ],
   "source": [
    "df.isna().sum()"
   ]
  },
  {
   "cell_type": "code",
   "execution_count": 21,
   "id": "4fae9a85",
   "metadata": {
    "execution": {
     "iopub.execute_input": "2023-10-06T18:59:38.444930Z",
     "iopub.status.busy": "2023-10-06T18:59:38.444586Z",
     "iopub.status.idle": "2023-10-06T18:59:38.452018Z",
     "shell.execute_reply": "2023-10-06T18:59:38.451007Z"
    },
    "papermill": {
     "duration": 0.022915,
     "end_time": "2023-10-06T18:59:38.454245",
     "exception": false,
     "start_time": "2023-10-06T18:59:38.431330",
     "status": "completed"
    },
    "tags": []
   },
   "outputs": [
    {
     "data": {
      "text/plain": [
       "Loan_ID               object\n",
       "Gender                object\n",
       "Married               object\n",
       "Dependents            object\n",
       "Education             object\n",
       "Self_Employed         object\n",
       "ApplicantIncome        int64\n",
       "CoapplicantIncome    float64\n",
       "LoanAmount           float64\n",
       "Loan_Amount_Term     float64\n",
       "Credit_History       float64\n",
       "Property_Area         object\n",
       "Loan_Status           object\n",
       "dtype: object"
      ]
     },
     "execution_count": 21,
     "metadata": {},
     "output_type": "execute_result"
    }
   ],
   "source": [
    "df.dtypes"
   ]
  },
  {
   "cell_type": "markdown",
   "id": "d31b9b46",
   "metadata": {
    "papermill": {
     "duration": 0.012506,
     "end_time": "2023-10-06T18:59:38.478731",
     "exception": false,
     "start_time": "2023-10-06T18:59:38.466225",
     "status": "completed"
    },
    "tags": []
   },
   "source": [
    "### 5) Exploratory data analysis (EDA)"
   ]
  },
  {
   "cell_type": "markdown",
   "id": "b9715739",
   "metadata": {
    "papermill": {
     "duration": 0.012002,
     "end_time": "2023-10-06T18:59:38.502720",
     "exception": false,
     "start_time": "2023-10-06T18:59:38.490718",
     "status": "completed"
    },
    "tags": []
   },
   "source": [
    "### Investigating our loan status \n"
   ]
  },
  {
   "cell_type": "code",
   "execution_count": 22,
   "id": "90e6f252",
   "metadata": {
    "execution": {
     "iopub.execute_input": "2023-10-06T18:59:38.529296Z",
     "iopub.status.busy": "2023-10-06T18:59:38.528920Z",
     "iopub.status.idle": "2023-10-06T18:59:38.536772Z",
     "shell.execute_reply": "2023-10-06T18:59:38.535634Z"
    },
    "papermill": {
     "duration": 0.023442,
     "end_time": "2023-10-06T18:59:38.539015",
     "exception": false,
     "start_time": "2023-10-06T18:59:38.515573",
     "status": "completed"
    },
    "tags": []
   },
   "outputs": [
    {
     "data": {
      "text/plain": [
       "Y    422\n",
       "N    192\n",
       "Name: Loan_Status, dtype: int64"
      ]
     },
     "execution_count": 22,
     "metadata": {},
     "output_type": "execute_result"
    }
   ],
   "source": [
    "df['Loan_Status'].value_counts()"
   ]
  },
  {
   "cell_type": "code",
   "execution_count": 23,
   "id": "135fb2c5",
   "metadata": {
    "execution": {
     "iopub.execute_input": "2023-10-06T18:59:38.565064Z",
     "iopub.status.busy": "2023-10-06T18:59:38.564725Z",
     "iopub.status.idle": "2023-10-06T18:59:38.728935Z",
     "shell.execute_reply": "2023-10-06T18:59:38.727634Z"
    },
    "papermill": {
     "duration": 0.182504,
     "end_time": "2023-10-06T18:59:38.733678",
     "exception": false,
     "start_time": "2023-10-06T18:59:38.551174",
     "status": "completed"
    },
    "tags": []
   },
   "outputs": [
    {
     "data": {
      "image/png": "[encoded data removed]",
      "text/plain": [
       "<Figure size 432x288 with 1 Axes>"
      ]
     },
     "metadata": {},
     "output_type": "display_data"
    }
   ],
   "source": [
    "status_count = df['Loan_Status'].value_counts()\n",
    "plt.pie(status_count,labels=status_count,autopct='%1.1f%%')\n",
    "plt.figlegend(['Loan Approved','Loan Does not Approved']);\n"
   ]
  },
  {
   "cell_type": "markdown",
   "id": "88afa882",
   "metadata": {
    "papermill": {
     "duration": 0.034851,
     "end_time": "2023-10-06T18:59:38.807359",
     "exception": false,
     "start_time": "2023-10-06T18:59:38.772508",
     "status": "completed"
    },
    "tags": []
   },
   "source": [
    "#### Relationship between Property area and Loan status"
   ]
  },
  {
   "cell_type": "code",
   "execution_count": 24,
   "id": "588a5b41",
   "metadata": {
    "execution": {
     "iopub.execute_input": "2023-10-06T18:59:38.837000Z",
     "iopub.status.busy": "2023-10-06T18:59:38.835924Z",
     "iopub.status.idle": "2023-10-06T18:59:38.862302Z",
     "shell.execute_reply": "2023-10-06T18:59:38.861123Z"
    },
    "papermill": {
     "duration": 0.043295,
     "end_time": "2023-10-06T18:59:38.864402",
     "exception": false,
     "start_time": "2023-10-06T18:59:38.821107",
     "status": "completed"
    },
    "tags": []
   },
   "outputs": [
    {
     "data": {
      "text/html": [
       "<div>\n",
       "<style scoped>\n",
       "    .dataframe tbody tr th:only-of-type {\n",
       "        vertical-align: middle;\n",
       "    }\n",
       "\n",
       "    .dataframe tbody tr th {\n",
       "        vertical-align: top;\n",
       "    }\n",
       "\n",
       "    .dataframe thead th {\n",
       "        text-align: right;\n",
       "    }\n",
       "</style>\n",
       "<table border=\"1\" class=\"dataframe\">\n",
       "  <thead>\n",
       "    <tr style=\"text-align: right;\">\n",
       "      <th>Loan_Status</th>\n",
       "      <th>N</th>\n",
       "      <th>Y</th>\n",
       "    </tr>\n",
       "    <tr>\n",
       "      <th>Property_Area</th>\n",
       "      <th></th>\n",
       "      <th></th>\n",
       "    </tr>\n",
       "  </thead>\n",
       "  <tbody>\n",
       "    <tr>\n",
       "      <th>Rural</th>\n",
       "      <td>69</td>\n",
       "      <td>110</td>\n",
       "    </tr>\n",
       "    <tr>\n",
       "      <th>Semiurban</th>\n",
       "      <td>54</td>\n",
       "      <td>179</td>\n",
       "    </tr>\n",
       "    <tr>\n",
       "      <th>Urban</th>\n",
       "      <td>69</td>\n",
       "      <td>133</td>\n",
       "    </tr>\n",
       "  </tbody>\n",
       "</table>\n",
       "</div>"
      ],
      "text/plain": [
       "Loan_Status     N    Y\n",
       "Property_Area         \n",
       "Rural          69  110\n",
       "Semiurban      54  179\n",
       "Urban          69  133"
      ]
     },
     "execution_count": 24,
     "metadata": {},
     "output_type": "execute_result"
    }
   ],
   "source": [
    "pd.crosstab(df['Property_Area'],df['Loan_Status'])"
   ]
  },
  {
   "cell_type": "code",
   "execution_count": 25,
   "id": "b8e134ab",
   "metadata": {
    "execution": {
     "iopub.execute_input": "2023-10-06T18:59:38.893127Z",
     "iopub.status.busy": "2023-10-06T18:59:38.892747Z",
     "iopub.status.idle": "2023-10-06T18:59:39.261007Z",
     "shell.execute_reply": "2023-10-06T18:59:39.260217Z"
    },
    "papermill": {
     "duration": 0.385861,
     "end_time": "2023-10-06T18:59:39.263091",
     "exception": false,
     "start_time": "2023-10-06T18:59:38.877230",
     "status": "completed"
    },
    "tags": []
   },
   "outputs": [
    {
     "data": {
      "image/png": "[encoded data removed]",
      "text/plain": [
       "<Figure size 432x288 with 1 Axes>"
      ]
     },
     "metadata": {
      "needs_background": "light"
     },
     "output_type": "display_data"
    }
   ],
   "source": [
    "pd.crosstab(df['Property_Area'],df['Loan_Status']).plot(kind='bar')\n",
    "plt.ylabel('Frequency')\n",
    "plt.title('Loan Status VS Property Area')\n",
    "plt.xticks(rotation=0);"
   ]
  },
  {
   "cell_type": "markdown",
   "id": "0fefe615",
   "metadata": {
    "execution": {
     "iopub.execute_input": "2023-10-06T16:49:04.491674Z",
     "iopub.status.busy": "2023-10-06T16:49:04.491189Z",
     "iopub.status.idle": "2023-10-06T16:49:04.500109Z",
     "shell.execute_reply": "2023-10-06T16:49:04.498666Z",
     "shell.execute_reply.started": "2023-10-06T16:49:04.491636Z"
    },
    "papermill": {
     "duration": 0.013738,
     "end_time": "2023-10-06T18:59:39.290391",
     "exception": false,
     "start_time": "2023-10-06T18:59:39.276653",
     "status": "completed"
    },
    "tags": []
   },
   "source": [
    "#### Applicant Income Distribution"
   ]
  },
  {
   "cell_type": "code",
   "execution_count": 26,
   "id": "54e3d33d",
   "metadata": {
    "execution": {
     "iopub.execute_input": "2023-10-06T18:59:39.319170Z",
     "iopub.status.busy": "2023-10-06T18:59:39.318532Z",
     "iopub.status.idle": "2023-10-06T18:59:39.714849Z",
     "shell.execute_reply": "2023-10-06T18:59:39.713430Z"
    },
    "papermill": {
     "duration": 0.413927,
     "end_time": "2023-10-06T18:59:39.717708",
     "exception": false,
     "start_time": "2023-10-06T18:59:39.303781",
     "status": "completed"
    },
    "tags": []
   },
   "outputs": [
    {
     "data": {
      "image/png": "[encoded data removed]",
      "text/plain": [
       "<Figure size 432x288 with 1 Axes>"
      ]
     },
     "metadata": {
      "needs_background": "light"
     },
     "output_type": "display_data"
    }
   ],
   "source": [
    "sns.histplot(df['ApplicantIncome'],bins=10,kde=True);"
   ]
  },
  {
   "cell_type": "code",
   "execution_count": 27,
   "id": "f56efc16",
   "metadata": {
    "execution": {
     "iopub.execute_input": "2023-10-06T18:59:39.747764Z",
     "iopub.status.busy": "2023-10-06T18:59:39.747386Z",
     "iopub.status.idle": "2023-10-06T18:59:39.766315Z",
     "shell.execute_reply": "2023-10-06T18:59:39.765109Z"
    },
    "papermill": {
     "duration": 0.036818,
     "end_time": "2023-10-06T18:59:39.768749",
     "exception": false,
     "start_time": "2023-10-06T18:59:39.731931",
     "status": "completed"
    },
    "tags": []
   },
   "outputs": [
    {
     "data": {
      "text/html": [
       "<div>\n",
       "<style scoped>\n",
       "    .dataframe tbody tr th:only-of-type {\n",
       "        vertical-align: middle;\n",
       "    }\n",
       "\n",
       "    .dataframe tbody tr th {\n",
       "        vertical-align: top;\n",
       "    }\n",
       "\n",
       "    .dataframe thead th {\n",
       "        text-align: right;\n",
       "    }\n",
       "</style>\n",
       "<table border=\"1\" class=\"dataframe\">\n",
       "  <thead>\n",
       "    <tr style=\"text-align: right;\">\n",
       "      <th>Loan_Status</th>\n",
       "      <th>N</th>\n",
       "      <th>Y</th>\n",
       "    </tr>\n",
       "    <tr>\n",
       "      <th>Credit_History</th>\n",
       "      <th></th>\n",
       "      <th></th>\n",
       "    </tr>\n",
       "  </thead>\n",
       "  <tbody>\n",
       "    <tr>\n",
       "      <th>0.0</th>\n",
       "      <td>82</td>\n",
       "      <td>7</td>\n",
       "    </tr>\n",
       "    <tr>\n",
       "      <th>1.0</th>\n",
       "      <td>110</td>\n",
       "      <td>415</td>\n",
       "    </tr>\n",
       "  </tbody>\n",
       "</table>\n",
       "</div>"
      ],
      "text/plain": [
       "Loan_Status       N    Y\n",
       "Credit_History          \n",
       "0.0              82    7\n",
       "1.0             110  415"
      ]
     },
     "execution_count": 27,
     "metadata": {},
     "output_type": "execute_result"
    }
   ],
   "source": [
    "pd.crosstab(df['Credit_History'],df['Loan_Status'])"
   ]
  },
  {
   "cell_type": "code",
   "execution_count": 28,
   "id": "e99d4d2d",
   "metadata": {
    "execution": {
     "iopub.execute_input": "2023-10-06T18:59:39.799086Z",
     "iopub.status.busy": "2023-10-06T18:59:39.798213Z",
     "iopub.status.idle": "2023-10-06T18:59:40.149499Z",
     "shell.execute_reply": "2023-10-06T18:59:40.148358Z"
    },
    "papermill": {
     "duration": 0.369187,
     "end_time": "2023-10-06T18:59:40.151817",
     "exception": false,
     "start_time": "2023-10-06T18:59:39.782630",
     "status": "completed"
    },
    "tags": []
   },
   "outputs": [
    {
     "data": {
      "image/png": "[encoded data removed]",
      "text/plain": [
       "<Figure size 432x288 with 1 Axes>"
      ]
     },
     "metadata": {
      "needs_background": "light"
     },
     "output_type": "display_data"
    }
   ],
   "source": [
    "pd.crosstab(df['Credit_History'],df['Loan_Status']).plot(kind='bar')\n",
    "plt.ylabel('Frequency')\n",
    "plt.xlabel('0.0: No credit history, 1.0: Have Credit history')\n",
    "plt.title('Credit History VS Loan Status')\n",
    "plt.xticks(rotation=0);"
   ]
  },
  {
   "cell_type": "markdown",
   "id": "10114c0d",
   "metadata": {
    "execution": {
     "iopub.execute_input": "2023-10-06T17:05:28.063955Z",
     "iopub.status.busy": "2023-10-06T17:05:28.063514Z",
     "iopub.status.idle": "2023-10-06T17:05:28.069183Z",
     "shell.execute_reply": "2023-10-06T17:05:28.067914Z",
     "shell.execute_reply.started": "2023-10-06T17:05:28.063921Z"
    },
    "papermill": {
     "duration": 0.018661,
     "end_time": "2023-10-06T18:59:40.185968",
     "exception": false,
     "start_time": "2023-10-06T18:59:40.167307",
     "status": "completed"
    },
    "tags": []
   },
   "source": [
    "#### Correlation analysis "
   ]
  },
  {
   "cell_type": "code",
   "execution_count": 29,
   "id": "aeadd5e6",
   "metadata": {
    "execution": {
     "iopub.execute_input": "2023-10-06T18:59:40.218616Z",
     "iopub.status.busy": "2023-10-06T18:59:40.217886Z",
     "iopub.status.idle": "2023-10-06T18:59:40.407030Z",
     "shell.execute_reply": "2023-10-06T18:59:40.405813Z"
    },
    "papermill": {
     "duration": 0.208524,
     "end_time": "2023-10-06T18:59:40.409459",
     "exception": false,
     "start_time": "2023-10-06T18:59:40.200935",
     "status": "completed"
    },
    "tags": []
   },
   "outputs": [
    {
     "name": "stdout",
     "output_type": "stream",
     "text": [
      "Gender: ['Male' 'Female']\n",
      "Married: ['No' 'Yes']\n",
      "Dependents: ['0' '1' '2' '3+']\n",
      "Education: ['Graduate' 'Not Graduate']\n",
      "Self_Employed: ['No' 'Yes']\n",
      "Property_Area: ['Urban' 'Rural' 'Semiurban']\n",
      "Loan_Status: ['Y' 'N']\n"
     ]
    }
   ],
   "source": [
    "from sklearn.preprocessing import LabelEncoder\n",
    "\n",
    "df.drop('Loan_ID',axis=1,inplace=True)\n",
    "\n",
    "for col in df.select_dtypes(include=['object']).columns:\n",
    "    print(f'{col}: {df[col].unique()}')"
   ]
  },
  {
   "cell_type": "code",
   "execution_count": 30,
   "id": "7a55b0c1",
   "metadata": {
    "execution": {
     "iopub.execute_input": "2023-10-06T18:59:40.441874Z",
     "iopub.status.busy": "2023-10-06T18:59:40.441214Z",
     "iopub.status.idle": "2023-10-06T18:59:40.453730Z",
     "shell.execute_reply": "2023-10-06T18:59:40.452089Z"
    },
    "papermill": {
     "duration": 0.030899,
     "end_time": "2023-10-06T18:59:40.455951",
     "exception": false,
     "start_time": "2023-10-06T18:59:40.425052",
     "status": "completed"
    },
    "tags": []
   },
   "outputs": [
    {
     "name": "stdout",
     "output_type": "stream",
     "text": [
      "Gender: [1 0]\n",
      "Married: [0 1]\n",
      "Dependents: [0 1 2 3]\n",
      "Education: [0 1]\n",
      "Self_Employed: [0 1]\n",
      "Property_Area: [2 0 1]\n",
      "Loan_Status: [1 0]\n"
     ]
    }
   ],
   "source": [
    "le = LabelEncoder()\n",
    "\n",
    "for col in df.select_dtypes(include=['object']).columns:\n",
    "    df[col] = le.fit_transform(df[col])\n",
    "    print(f'{col}: {df[col].unique()}')"
   ]
  },
  {
   "cell_type": "code",
   "execution_count": 31,
   "id": "64ca9104",
   "metadata": {
    "execution": {
     "iopub.execute_input": "2023-10-06T18:59:40.488082Z",
     "iopub.status.busy": "2023-10-06T18:59:40.487025Z",
     "iopub.status.idle": "2023-10-06T18:59:40.510622Z",
     "shell.execute_reply": "2023-10-06T18:59:40.509862Z"
    },
    "papermill": {
     "duration": 0.042041,
     "end_time": "2023-10-06T18:59:40.512565",
     "exception": false,
     "start_time": "2023-10-06T18:59:40.470524",
     "status": "completed"
    },
    "tags": []
   },
   "outputs": [
    {
     "data": {
      "text/html": [
       "<div>\n",
       "<style scoped>\n",
       "    .dataframe tbody tr th:only-of-type {\n",
       "        vertical-align: middle;\n",
       "    }\n",
       "\n",
       "    .dataframe tbody tr th {\n",
       "        vertical-align: top;\n",
       "    }\n",
       "\n",
       "    .dataframe thead th {\n",
       "        text-align: right;\n",
       "    }\n",
       "</style>\n",
       "<table border=\"1\" class=\"dataframe\">\n",
       "  <thead>\n",
       "    <tr style=\"text-align: right;\">\n",
       "      <th></th>\n",
       "      <th>Gender</th>\n",
       "      <th>Married</th>\n",
       "      <th>Dependents</th>\n",
       "      <th>Education</th>\n",
       "      <th>Self_Employed</th>\n",
       "      <th>ApplicantIncome</th>\n",
       "      <th>CoapplicantIncome</th>\n",
       "      <th>LoanAmount</th>\n",
       "      <th>Loan_Amount_Term</th>\n",
       "      <th>Credit_History</th>\n",
       "      <th>Property_Area</th>\n",
       "      <th>Loan_Status</th>\n",
       "    </tr>\n",
       "  </thead>\n",
       "  <tbody>\n",
       "    <tr>\n",
       "      <th>Gender</th>\n",
       "      <td>1.00</td>\n",
       "      <td>0.34</td>\n",
       "      <td>0.15</td>\n",
       "      <td>0.06</td>\n",
       "      <td>-0.04</td>\n",
       "      <td>0.01</td>\n",
       "      <td>0.08</td>\n",
       "      <td>0.06</td>\n",
       "      <td>-0.07</td>\n",
       "      <td>0.02</td>\n",
       "      <td>-0.02</td>\n",
       "      <td>0.03</td>\n",
       "    </tr>\n",
       "    <tr>\n",
       "      <th>Married</th>\n",
       "      <td>0.34</td>\n",
       "      <td>1.00</td>\n",
       "      <td>0.34</td>\n",
       "      <td>0.02</td>\n",
       "      <td>-0.02</td>\n",
       "      <td>0.05</td>\n",
       "      <td>0.08</td>\n",
       "      <td>0.15</td>\n",
       "      <td>-0.10</td>\n",
       "      <td>0.01</td>\n",
       "      <td>0.00</td>\n",
       "      <td>0.08</td>\n",
       "    </tr>\n",
       "    <tr>\n",
       "      <th>Dependents</th>\n",
       "      <td>0.15</td>\n",
       "      <td>0.34</td>\n",
       "      <td>1.00</td>\n",
       "      <td>0.06</td>\n",
       "      <td>0.04</td>\n",
       "      <td>0.12</td>\n",
       "      <td>0.03</td>\n",
       "      <td>0.16</td>\n",
       "      <td>-0.10</td>\n",
       "      <td>-0.04</td>\n",
       "      <td>-0.00</td>\n",
       "      <td>0.01</td>\n",
       "    </tr>\n",
       "    <tr>\n",
       "      <th>Education</th>\n",
       "      <td>0.06</td>\n",
       "      <td>0.02</td>\n",
       "      <td>0.06</td>\n",
       "      <td>1.00</td>\n",
       "      <td>-0.02</td>\n",
       "      <td>-0.14</td>\n",
       "      <td>-0.06</td>\n",
       "      <td>-0.17</td>\n",
       "      <td>-0.07</td>\n",
       "      <td>-0.07</td>\n",
       "      <td>-0.07</td>\n",
       "      <td>-0.09</td>\n",
       "    </tr>\n",
       "    <tr>\n",
       "      <th>Self_Employed</th>\n",
       "      <td>-0.04</td>\n",
       "      <td>-0.02</td>\n",
       "      <td>0.04</td>\n",
       "      <td>-0.02</td>\n",
       "      <td>1.00</td>\n",
       "      <td>0.12</td>\n",
       "      <td>0.03</td>\n",
       "      <td>0.11</td>\n",
       "      <td>-0.04</td>\n",
       "      <td>0.04</td>\n",
       "      <td>-0.02</td>\n",
       "      <td>0.01</td>\n",
       "    </tr>\n",
       "    <tr>\n",
       "      <th>ApplicantIncome</th>\n",
       "      <td>0.01</td>\n",
       "      <td>0.05</td>\n",
       "      <td>0.12</td>\n",
       "      <td>-0.14</td>\n",
       "      <td>0.12</td>\n",
       "      <td>1.00</td>\n",
       "      <td>-0.12</td>\n",
       "      <td>0.57</td>\n",
       "      <td>-0.05</td>\n",
       "      <td>-0.02</td>\n",
       "      <td>-0.01</td>\n",
       "      <td>-0.00</td>\n",
       "    </tr>\n",
       "    <tr>\n",
       "      <th>CoapplicantIncome</th>\n",
       "      <td>0.08</td>\n",
       "      <td>0.08</td>\n",
       "      <td>0.03</td>\n",
       "      <td>-0.06</td>\n",
       "      <td>0.03</td>\n",
       "      <td>-0.12</td>\n",
       "      <td>1.00</td>\n",
       "      <td>0.19</td>\n",
       "      <td>-0.06</td>\n",
       "      <td>0.01</td>\n",
       "      <td>0.01</td>\n",
       "      <td>-0.06</td>\n",
       "    </tr>\n",
       "    <tr>\n",
       "      <th>LoanAmount</th>\n",
       "      <td>0.06</td>\n",
       "      <td>0.15</td>\n",
       "      <td>0.16</td>\n",
       "      <td>-0.17</td>\n",
       "      <td>0.11</td>\n",
       "      <td>0.57</td>\n",
       "      <td>0.19</td>\n",
       "      <td>1.00</td>\n",
       "      <td>0.04</td>\n",
       "      <td>-0.00</td>\n",
       "      <td>-0.05</td>\n",
       "      <td>-0.03</td>\n",
       "    </tr>\n",
       "    <tr>\n",
       "      <th>Loan_Amount_Term</th>\n",
       "      <td>-0.07</td>\n",
       "      <td>-0.10</td>\n",
       "      <td>-0.10</td>\n",
       "      <td>-0.07</td>\n",
       "      <td>-0.04</td>\n",
       "      <td>-0.05</td>\n",
       "      <td>-0.06</td>\n",
       "      <td>0.04</td>\n",
       "      <td>1.00</td>\n",
       "      <td>-0.00</td>\n",
       "      <td>-0.08</td>\n",
       "      <td>-0.02</td>\n",
       "    </tr>\n",
       "    <tr>\n",
       "      <th>Credit_History</th>\n",
       "      <td>0.02</td>\n",
       "      <td>0.01</td>\n",
       "      <td>-0.04</td>\n",
       "      <td>-0.07</td>\n",
       "      <td>0.04</td>\n",
       "      <td>-0.02</td>\n",
       "      <td>0.01</td>\n",
       "      <td>-0.00</td>\n",
       "      <td>-0.00</td>\n",
       "      <td>1.00</td>\n",
       "      <td>0.00</td>\n",
       "      <td>0.54</td>\n",
       "    </tr>\n",
       "    <tr>\n",
       "      <th>Property_Area</th>\n",
       "      <td>-0.02</td>\n",
       "      <td>0.00</td>\n",
       "      <td>-0.00</td>\n",
       "      <td>-0.07</td>\n",
       "      <td>-0.02</td>\n",
       "      <td>-0.01</td>\n",
       "      <td>0.01</td>\n",
       "      <td>-0.05</td>\n",
       "      <td>-0.08</td>\n",
       "      <td>0.00</td>\n",
       "      <td>1.00</td>\n",
       "      <td>0.03</td>\n",
       "    </tr>\n",
       "    <tr>\n",
       "      <th>Loan_Status</th>\n",
       "      <td>0.03</td>\n",
       "      <td>0.08</td>\n",
       "      <td>0.01</td>\n",
       "      <td>-0.09</td>\n",
       "      <td>0.01</td>\n",
       "      <td>-0.00</td>\n",
       "      <td>-0.06</td>\n",
       "      <td>-0.03</td>\n",
       "      <td>-0.02</td>\n",
       "      <td>0.54</td>\n",
       "      <td>0.03</td>\n",
       "      <td>1.00</td>\n",
       "    </tr>\n",
       "  </tbody>\n",
       "</table>\n",
       "</div>"
      ],
      "text/plain": [
       "                   Gender  Married  Dependents  Education  Self_Employed  \\\n",
       "Gender               1.00     0.34        0.15       0.06          -0.04   \n",
       "Married              0.34     1.00        0.34       0.02          -0.02   \n",
       "Dependents           0.15     0.34        1.00       0.06           0.04   \n",
       "Education            0.06     0.02        0.06       1.00          -0.02   \n",
       "Self_Employed       -0.04    -0.02        0.04      -0.02           1.00   \n",
       "ApplicantIncome      0.01     0.05        0.12      -0.14           0.12   \n",
       "CoapplicantIncome    0.08     0.08        0.03      -0.06           0.03   \n",
       "LoanAmount           0.06     0.15        0.16      -0.17           0.11   \n",
       "Loan_Amount_Term    -0.07    -0.10       -0.10      -0.07          -0.04   \n",
       "Credit_History       0.02     0.01       -0.04      -0.07           0.04   \n",
       "Property_Area       -0.02     0.00       -0.00      -0.07          -0.02   \n",
       "Loan_Status          0.03     0.08        0.01      -0.09           0.01   \n",
       "\n",
       "                   ApplicantIncome  CoapplicantIncome  LoanAmount  \\\n",
       "Gender                        0.01               0.08        0.06   \n",
       "Married                       0.05               0.08        0.15   \n",
       "Dependents                    0.12               0.03        0.16   \n",
       "Education                    -0.14              -0.06       -0.17   \n",
       "Self_Employed                 0.12               0.03        0.11   \n",
       "ApplicantIncome               1.00              -0.12        0.57   \n",
       "CoapplicantIncome            -0.12               1.00        0.19   \n",
       "LoanAmount                    0.57               0.19        1.00   \n",
       "Loan_Amount_Term             -0.05              -0.06        0.04   \n",
       "Credit_History               -0.02               0.01       -0.00   \n",
       "Property_Area                -0.01               0.01       -0.05   \n",
       "Loan_Status                  -0.00              -0.06       -0.03   \n",
       "\n",
       "                   Loan_Amount_Term  Credit_History  Property_Area  \\\n",
       "Gender                        -0.07            0.02          -0.02   \n",
       "Married                       -0.10            0.01           0.00   \n",
       "Dependents                    -0.10           -0.04          -0.00   \n",
       "Education                     -0.07           -0.07          -0.07   \n",
       "Self_Employed                 -0.04            0.04          -0.02   \n",
       "ApplicantIncome               -0.05           -0.02          -0.01   \n",
       "CoapplicantIncome             -0.06            0.01           0.01   \n",
       "LoanAmount                     0.04           -0.00          -0.05   \n",
       "Loan_Amount_Term               1.00           -0.00          -0.08   \n",
       "Credit_History                -0.00            1.00           0.00   \n",
       "Property_Area                 -0.08            0.00           1.00   \n",
       "Loan_Status                   -0.02            0.54           0.03   \n",
       "\n",
       "                   Loan_Status  \n",
       "Gender                    0.03  \n",
       "Married                   0.08  \n",
       "Dependents                0.01  \n",
       "Education                -0.09  \n",
       "Self_Employed             0.01  \n",
       "ApplicantIncome          -0.00  \n",
       "CoapplicantIncome        -0.06  \n",
       "LoanAmount               -0.03  \n",
       "Loan_Amount_Term         -0.02  \n",
       "Credit_History            0.54  \n",
       "Property_Area             0.03  \n",
       "Loan_Status               1.00  "
      ]
     },
     "execution_count": 31,
     "metadata": {},
     "output_type": "execute_result"
    }
   ],
   "source": [
    "corr_matrix = df.corr().round(2)\n",
    "corr_matrix"
   ]
  },
  {
   "cell_type": "code",
   "execution_count": 32,
   "id": "dce01aec",
   "metadata": {
    "execution": {
     "iopub.execute_input": "2023-10-06T18:59:40.545267Z",
     "iopub.status.busy": "2023-10-06T18:59:40.543867Z",
     "iopub.status.idle": "2023-10-06T18:59:41.383820Z",
     "shell.execute_reply": "2023-10-06T18:59:41.382625Z"
    },
    "papermill": {
     "duration": 0.859036,
     "end_time": "2023-10-06T18:59:41.386936",
     "exception": false,
     "start_time": "2023-10-06T18:59:40.527900",
     "status": "completed"
    },
    "tags": []
   },
   "outputs": [
    {
     "data": {
      "image/png": "[encoded data removed]",
      "text/plain": [
       "<Figure size 720x576 with 2 Axes>"
      ]
     },
     "metadata": {
      "needs_background": "light"
     },
     "output_type": "display_data"
    }
   ],
   "source": [
    "## plot corr matrix into heatmap \n",
    "plt.figure(figsize=(10,8))\n",
    "sns.heatmap(corr_matrix,annot=True)\n",
    "plt.title('Correlation Matrix Heatmap');"
   ]
  },
  {
   "cell_type": "markdown",
   "id": "3b583fb2",
   "metadata": {
    "papermill": {
     "duration": 0.017845,
     "end_time": "2023-10-06T18:59:41.422338",
     "exception": false,
     "start_time": "2023-10-06T18:59:41.404493",
     "status": "completed"
    },
    "tags": []
   },
   "source": [
    "### 6) Predictive Modelling"
   ]
  },
  {
   "cell_type": "code",
   "execution_count": 33,
   "id": "140b4adc",
   "metadata": {},
   "outputs": [
    {
     "data": {
      "text/html": [
       "<div>\n",
       "<style scoped>\n",
       "    .dataframe tbody tr th:only-of-type {\n",
       "        vertical-align: middle;\n",
       "    }\n",
       "\n",
       "    .dataframe tbody tr th {\n",
       "        vertical-align: top;\n",
       "    }\n",
       "\n",
       "    .dataframe thead th {\n",
       "        text-align: right;\n",
       "    }\n",
       "</style>\n",
       "<table border=\"1\" class=\"dataframe\">\n",
       "  <thead>\n",
       "    <tr style=\"text-align: right;\">\n",
       "      <th></th>\n",
       "      <th>Gender</th>\n",
       "      <th>Married</th>\n",
       "      <th>Dependents</th>\n",
       "      <th>Education</th>\n",
       "      <th>Self_Employed</th>\n",
       "      <th>ApplicantIncome</th>\n",
       "      <th>CoapplicantIncome</th>\n",
       "      <th>LoanAmount</th>\n",
       "      <th>Loan_Amount_Term</th>\n",
       "      <th>Credit_History</th>\n",
       "      <th>Property_Area</th>\n",
       "      <th>Loan_Status</th>\n",
       "    </tr>\n",
       "  </thead>\n",
       "  <tbody>\n",
       "    <tr>\n",
       "      <th>0</th>\n",
       "      <td>1</td>\n",
       "      <td>0</td>\n",
       "      <td>0</td>\n",
       "      <td>0</td>\n",
       "      <td>0</td>\n",
       "      <td>5849</td>\n",
       "      <td>0.0</td>\n",
       "      <td>128.0</td>\n",
       "      <td>360.0</td>\n",
       "      <td>1.0</td>\n",
       "      <td>2</td>\n",
       "      <td>1</td>\n",
       "    </tr>\n",
       "    <tr>\n",
       "      <th>1</th>\n",
       "      <td>1</td>\n",
       "      <td>1</td>\n",
       "      <td>1</td>\n",
       "      <td>0</td>\n",
       "      <td>0</td>\n",
       "      <td>4583</td>\n",
       "      <td>1508.0</td>\n",
       "      <td>128.0</td>\n",
       "      <td>360.0</td>\n",
       "      <td>1.0</td>\n",
       "      <td>0</td>\n",
       "      <td>0</td>\n",
       "    </tr>\n",
       "    <tr>\n",
       "      <th>2</th>\n",
       "      <td>1</td>\n",
       "      <td>1</td>\n",
       "      <td>0</td>\n",
       "      <td>0</td>\n",
       "      <td>1</td>\n",
       "      <td>3000</td>\n",
       "      <td>0.0</td>\n",
       "      <td>66.0</td>\n",
       "      <td>360.0</td>\n",
       "      <td>1.0</td>\n",
       "      <td>2</td>\n",
       "      <td>1</td>\n",
       "    </tr>\n",
       "    <tr>\n",
       "      <th>3</th>\n",
       "      <td>1</td>\n",
       "      <td>1</td>\n",
       "      <td>0</td>\n",
       "      <td>1</td>\n",
       "      <td>0</td>\n",
       "      <td>2583</td>\n",
       "      <td>2358.0</td>\n",
       "      <td>120.0</td>\n",
       "      <td>360.0</td>\n",
       "      <td>1.0</td>\n",
       "      <td>2</td>\n",
       "      <td>1</td>\n",
       "    </tr>\n",
       "    <tr>\n",
       "      <th>4</th>\n",
       "      <td>1</td>\n",
       "      <td>0</td>\n",
       "      <td>0</td>\n",
       "      <td>0</td>\n",
       "      <td>0</td>\n",
       "      <td>6000</td>\n",
       "      <td>0.0</td>\n",
       "      <td>141.0</td>\n",
       "      <td>360.0</td>\n",
       "      <td>1.0</td>\n",
       "      <td>2</td>\n",
       "      <td>1</td>\n",
       "    </tr>\n",
       "  </tbody>\n",
       "</table>\n",
       "</div>"
      ],
      "text/plain": [
       "   Gender  Married  Dependents  Education  Self_Employed  ApplicantIncome  \\\n",
       "0       1        0           0          0              0             5849   \n",
       "1       1        1           1          0              0             4583   \n",
       "2       1        1           0          0              1             3000   \n",
       "3       1        1           0          1              0             2583   \n",
       "4       1        0           0          0              0             6000   \n",
       "\n",
       "   CoapplicantIncome  LoanAmount  Loan_Amount_Term  Credit_History  \\\n",
       "0                0.0       128.0             360.0             1.0   \n",
       "1             1508.0       128.0             360.0             1.0   \n",
       "2                0.0        66.0             360.0             1.0   \n",
       "3             2358.0       120.0             360.0             1.0   \n",
       "4                0.0       141.0             360.0             1.0   \n",
       "\n",
       "   Property_Area  Loan_Status  \n",
       "0              2            1  \n",
       "1              0            0  \n",
       "2              2            1  \n",
       "3              2            1  \n",
       "4              2            1  "
      ]
     },
     "execution_count": 33,
     "metadata": {},
     "output_type": "execute_result"
    }
   ],
   "source": [
    "df.head()"
   ]
  },
  {
   "cell_type": "code",
   "execution_count": 34,
   "id": "17a16bb1",
   "metadata": {},
   "outputs": [
    {
     "data": {
      "text/html": [
       "<div>\n",
       "<style scoped>\n",
       "    .dataframe tbody tr th:only-of-type {\n",
       "        vertical-align: middle;\n",
       "    }\n",
       "\n",
       "    .dataframe tbody tr th {\n",
       "        vertical-align: top;\n",
       "    }\n",
       "\n",
       "    .dataframe thead th {\n",
       "        text-align: right;\n",
       "    }\n",
       "</style>\n",
       "<table border=\"1\" class=\"dataframe\">\n",
       "  <thead>\n",
       "    <tr style=\"text-align: right;\">\n",
       "      <th></th>\n",
       "      <th>Gender</th>\n",
       "      <th>Married</th>\n",
       "      <th>Dependents</th>\n",
       "      <th>Education</th>\n",
       "      <th>Self_Employed</th>\n",
       "      <th>ApplicantIncome</th>\n",
       "      <th>CoapplicantIncome</th>\n",
       "      <th>LoanAmount</th>\n",
       "      <th>Loan_Amount_Term</th>\n",
       "      <th>Credit_History</th>\n",
       "      <th>Property_Area</th>\n",
       "    </tr>\n",
       "  </thead>\n",
       "  <tbody>\n",
       "    <tr>\n",
       "      <th>0</th>\n",
       "      <td>1</td>\n",
       "      <td>0</td>\n",
       "      <td>0</td>\n",
       "      <td>0</td>\n",
       "      <td>0</td>\n",
       "      <td>5849</td>\n",
       "      <td>0.0</td>\n",
       "      <td>128.0</td>\n",
       "      <td>360.0</td>\n",
       "      <td>1.0</td>\n",
       "      <td>2</td>\n",
       "    </tr>\n",
       "    <tr>\n",
       "      <th>1</th>\n",
       "      <td>1</td>\n",
       "      <td>1</td>\n",
       "      <td>1</td>\n",
       "      <td>0</td>\n",
       "      <td>0</td>\n",
       "      <td>4583</td>\n",
       "      <td>1508.0</td>\n",
       "      <td>128.0</td>\n",
       "      <td>360.0</td>\n",
       "      <td>1.0</td>\n",
       "      <td>0</td>\n",
       "    </tr>\n",
       "    <tr>\n",
       "      <th>2</th>\n",
       "      <td>1</td>\n",
       "      <td>1</td>\n",
       "      <td>0</td>\n",
       "      <td>0</td>\n",
       "      <td>1</td>\n",
       "      <td>3000</td>\n",
       "      <td>0.0</td>\n",
       "      <td>66.0</td>\n",
       "      <td>360.0</td>\n",
       "      <td>1.0</td>\n",
       "      <td>2</td>\n",
       "    </tr>\n",
       "    <tr>\n",
       "      <th>3</th>\n",
       "      <td>1</td>\n",
       "      <td>1</td>\n",
       "      <td>0</td>\n",
       "      <td>1</td>\n",
       "      <td>0</td>\n",
       "      <td>2583</td>\n",
       "      <td>2358.0</td>\n",
       "      <td>120.0</td>\n",
       "      <td>360.0</td>\n",
       "      <td>1.0</td>\n",
       "      <td>2</td>\n",
       "    </tr>\n",
       "    <tr>\n",
       "      <th>4</th>\n",
       "      <td>1</td>\n",
       "      <td>0</td>\n",
       "      <td>0</td>\n",
       "      <td>0</td>\n",
       "      <td>0</td>\n",
       "      <td>6000</td>\n",
       "      <td>0.0</td>\n",
       "      <td>141.0</td>\n",
       "      <td>360.0</td>\n",
       "      <td>1.0</td>\n",
       "      <td>2</td>\n",
       "    </tr>\n",
       "    <tr>\n",
       "      <th>...</th>\n",
       "      <td>...</td>\n",
       "      <td>...</td>\n",
       "      <td>...</td>\n",
       "      <td>...</td>\n",
       "      <td>...</td>\n",
       "      <td>...</td>\n",
       "      <td>...</td>\n",
       "      <td>...</td>\n",
       "      <td>...</td>\n",
       "      <td>...</td>\n",
       "      <td>...</td>\n",
       "    </tr>\n",
       "    <tr>\n",
       "      <th>609</th>\n",
       "      <td>0</td>\n",
       "      <td>0</td>\n",
       "      <td>0</td>\n",
       "      <td>0</td>\n",
       "      <td>0</td>\n",
       "      <td>2900</td>\n",
       "      <td>0.0</td>\n",
       "      <td>71.0</td>\n",
       "      <td>360.0</td>\n",
       "      <td>1.0</td>\n",
       "      <td>0</td>\n",
       "    </tr>\n",
       "    <tr>\n",
       "      <th>610</th>\n",
       "      <td>1</td>\n",
       "      <td>1</td>\n",
       "      <td>3</td>\n",
       "      <td>0</td>\n",
       "      <td>0</td>\n",
       "      <td>4106</td>\n",
       "      <td>0.0</td>\n",
       "      <td>40.0</td>\n",
       "      <td>180.0</td>\n",
       "      <td>1.0</td>\n",
       "      <td>0</td>\n",
       "    </tr>\n",
       "    <tr>\n",
       "      <th>611</th>\n",
       "      <td>1</td>\n",
       "      <td>1</td>\n",
       "      <td>1</td>\n",
       "      <td>0</td>\n",
       "      <td>0</td>\n",
       "      <td>8072</td>\n",
       "      <td>240.0</td>\n",
       "      <td>253.0</td>\n",
       "      <td>360.0</td>\n",
       "      <td>1.0</td>\n",
       "      <td>2</td>\n",
       "    </tr>\n",
       "    <tr>\n",
       "      <th>612</th>\n",
       "      <td>1</td>\n",
       "      <td>1</td>\n",
       "      <td>2</td>\n",
       "      <td>0</td>\n",
       "      <td>0</td>\n",
       "      <td>7583</td>\n",
       "      <td>0.0</td>\n",
       "      <td>187.0</td>\n",
       "      <td>360.0</td>\n",
       "      <td>1.0</td>\n",
       "      <td>2</td>\n",
       "    </tr>\n",
       "    <tr>\n",
       "      <th>613</th>\n",
       "      <td>0</td>\n",
       "      <td>0</td>\n",
       "      <td>0</td>\n",
       "      <td>0</td>\n",
       "      <td>1</td>\n",
       "      <td>4583</td>\n",
       "      <td>0.0</td>\n",
       "      <td>133.0</td>\n",
       "      <td>360.0</td>\n",
       "      <td>0.0</td>\n",
       "      <td>1</td>\n",
       "    </tr>\n",
       "  </tbody>\n",
       "</table>\n",
       "<p>614 rows × 11 columns</p>\n",
       "</div>"
      ],
      "text/plain": [
       "     Gender  Married  Dependents  Education  Self_Employed  ApplicantIncome  \\\n",
       "0         1        0           0          0              0             5849   \n",
       "1         1        1           1          0              0             4583   \n",
       "2         1        1           0          0              1             3000   \n",
       "3         1        1           0          1              0             2583   \n",
       "4         1        0           0          0              0             6000   \n",
       "..      ...      ...         ...        ...            ...              ...   \n",
       "609       0        0           0          0              0             2900   \n",
       "610       1        1           3          0              0             4106   \n",
       "611       1        1           1          0              0             8072   \n",
       "612       1        1           2          0              0             7583   \n",
       "613       0        0           0          0              1             4583   \n",
       "\n",
       "     CoapplicantIncome  LoanAmount  Loan_Amount_Term  Credit_History  \\\n",
       "0                  0.0       128.0             360.0             1.0   \n",
       "1               1508.0       128.0             360.0             1.0   \n",
       "2                  0.0        66.0             360.0             1.0   \n",
       "3               2358.0       120.0             360.0             1.0   \n",
       "4                  0.0       141.0             360.0             1.0   \n",
       "..                 ...         ...               ...             ...   \n",
       "609                0.0        71.0             360.0             1.0   \n",
       "610                0.0        40.0             180.0             1.0   \n",
       "611              240.0       253.0             360.0             1.0   \n",
       "612                0.0       187.0             360.0             1.0   \n",
       "613                0.0       133.0             360.0             0.0   \n",
       "\n",
       "     Property_Area  \n",
       "0                2  \n",
       "1                0  \n",
       "2                2  \n",
       "3                2  \n",
       "4                2  \n",
       "..             ...  \n",
       "609              0  \n",
       "610              0  \n",
       "611              2  \n",
       "612              2  \n",
       "613              1  \n",
       "\n",
       "[614 rows x 11 columns]"
      ]
     },
     "execution_count": 34,
     "metadata": {},
     "output_type": "execute_result"
    }
   ],
   "source": [
    "predictors = df.iloc[:,:-1]\n",
    "predictors"
   ]
  },
  {
   "cell_type": "code",
   "execution_count": 35,
   "id": "09bb9d27",
   "metadata": {},
   "outputs": [
    {
     "data": {
      "text/plain": [
       "0      1\n",
       "1      0\n",
       "2      1\n",
       "3      1\n",
       "4      1\n",
       "      ..\n",
       "609    1\n",
       "610    1\n",
       "611    1\n",
       "612    1\n",
       "613    0\n",
       "Name: Loan_Status, Length: 614, dtype: int32"
      ]
     },
     "execution_count": 35,
     "metadata": {},
     "output_type": "execute_result"
    }
   ],
   "source": [
    "label = df.iloc[:,-1]\n",
    "label"
   ]
  },
  {
   "cell_type": "markdown",
   "id": "b3336b70",
   "metadata": {},
   "source": [
    "#### Splitting data into train and test"
   ]
  },
  {
   "cell_type": "code",
   "execution_count": 36,
   "id": "8b920a87",
   "metadata": {},
   "outputs": [],
   "source": [
    "from sklearn.model_selection import train_test_split\n",
    "X_train,X_test,y_train,y_test = train_test_split(predictors,label,test_size=0.3,random_state=42)"
   ]
  },
  {
   "cell_type": "code",
   "execution_count": 38,
   "id": "476dc077",
   "metadata": {},
   "outputs": [],
   "source": [
    "from sklearn.linear_model import LogisticRegression\n",
    "logreg = LogisticRegression()\n",
    "from sklearn.neighbors import KNeighborsClassifier\n",
    "knn = KNeighborsClassifier()\n",
    "from sklearn.tree import DecisionTreeClassifier\n",
    "dt = DecisionTreeClassifier()\n",
    "from sklearn.ensemble import RandomForestClassifier\n",
    "rf=RandomForestClassifier()\n",
    "from sklearn.metrics import accuracy_score,classification_report"
   ]
  },
  {
   "cell_type": "code",
   "execution_count": 39,
   "id": "69273e60",
   "metadata": {},
   "outputs": [],
   "source": [
    "def mymodel(model):\n",
    "    model.fit(X_train,y_train)\n",
    "    y_pred = model.predict(X_test)\n",
    "    print(classification_report(y_test,y_pred))\n",
    "    return model"
   ]
  },
  {
   "cell_type": "markdown",
   "id": "87b05730",
   "metadata": {},
   "source": [
    "_Here we created a function to check which Machine Learning Algorithm will be the best fit for our model. We will select the one with highest accuracy._"
   ]
  },
  {
   "cell_type": "code",
   "execution_count": 40,
   "id": "4dc06f8f",
   "metadata": {},
   "outputs": [
    {
     "name": "stdout",
     "output_type": "stream",
     "text": [
      "              precision    recall  f1-score   support\n",
      "\n",
      "           0       0.93      0.42      0.57        65\n",
      "           1       0.76      0.98      0.86       120\n",
      "\n",
      "    accuracy                           0.78       185\n",
      "   macro avg       0.84      0.70      0.71       185\n",
      "weighted avg       0.82      0.78      0.76       185\n",
      "\n"
     ]
    },
    {
     "data": {
      "text/plain": [
       "LogisticRegression()"
      ]
     },
     "execution_count": 40,
     "metadata": {},
     "output_type": "execute_result"
    }
   ],
   "source": [
    "mymodel(logreg)"
   ]
  },
  {
   "cell_type": "code",
   "execution_count": 41,
   "id": "cf75e3a1",
   "metadata": {},
   "outputs": [
    {
     "name": "stdout",
     "output_type": "stream",
     "text": [
      "              precision    recall  f1-score   support\n",
      "\n",
      "           0       0.25      0.12      0.16        65\n",
      "           1       0.63      0.80      0.70       120\n",
      "\n",
      "    accuracy                           0.56       185\n",
      "   macro avg       0.44      0.46      0.43       185\n",
      "weighted avg       0.49      0.56      0.51       185\n",
      "\n"
     ]
    },
    {
     "data": {
      "text/plain": [
       "KNeighborsClassifier()"
      ]
     },
     "execution_count": 41,
     "metadata": {},
     "output_type": "execute_result"
    }
   ],
   "source": [
    "mymodel(knn)"
   ]
  },
  {
   "cell_type": "code",
   "execution_count": 42,
   "id": "f6042c60",
   "metadata": {},
   "outputs": [
    {
     "name": "stdout",
     "output_type": "stream",
     "text": [
      "              precision    recall  f1-score   support\n",
      "\n",
      "           0       0.51      0.54      0.53        65\n",
      "           1       0.74      0.72      0.73       120\n",
      "\n",
      "    accuracy                           0.66       185\n",
      "   macro avg       0.63      0.63      0.63       185\n",
      "weighted avg       0.66      0.66      0.66       185\n",
      "\n"
     ]
    },
    {
     "data": {
      "text/plain": [
       "DecisionTreeClassifier()"
      ]
     },
     "execution_count": 42,
     "metadata": {},
     "output_type": "execute_result"
    }
   ],
   "source": [
    "mymodel(dt)"
   ]
  },
  {
   "cell_type": "code",
   "execution_count": 43,
   "id": "c7e0dba6",
   "metadata": {},
   "outputs": [
    {
     "name": "stdout",
     "output_type": "stream",
     "text": [
      "              precision    recall  f1-score   support\n",
      "\n",
      "           0       0.76      0.48      0.58        65\n",
      "           1       0.76      0.92      0.83       120\n",
      "\n",
      "    accuracy                           0.76       185\n",
      "   macro avg       0.76      0.70      0.71       185\n",
      "weighted avg       0.76      0.76      0.75       185\n",
      "\n"
     ]
    },
    {
     "data": {
      "text/plain": [
       "RandomForestClassifier()"
      ]
     },
     "execution_count": 43,
     "metadata": {},
     "output_type": "execute_result"
    }
   ],
   "source": [
    "mymodel(rf)"
   ]
  },
  {
   "cell_type": "code",
   "execution_count": 44,
   "id": "19c1be59",
   "metadata": {
    "scrolled": true
   },
   "outputs": [
    {
     "name": "stdout",
     "output_type": "stream",
     "text": [
      "1.0\n",
      "0.7621621621621621\n"
     ]
    }
   ],
   "source": [
    "print(rf.score(X_train,y_train))\n",
    "print(rf.score(X_test,y_test))"
   ]
  },
  {
   "cell_type": "markdown",
   "id": "a2366a89",
   "metadata": {},
   "source": [
    "_Our training and testing scores are a little different from each other. But we need scores close to each other for our model to work best._ "
   ]
  },
  {
   "cell_type": "markdown",
   "id": "08573630",
   "metadata": {},
   "source": [
    "#### Hyperparameter Tuning"
   ]
  },
  {
   "cell_type": "code",
   "execution_count": 45,
   "id": "b7e778bd",
   "metadata": {},
   "outputs": [
    {
     "name": "stdout",
     "output_type": "stream",
     "text": [
      "1 = 0.6918918918918919\n",
      "2 = 0.7783783783783784\n",
      "3 = 0.7837837837837838\n",
      "4 = 0.7837837837837838\n",
      "5 = 0.7891891891891892\n",
      "6 = 0.7891891891891892\n",
      "7 = 0.7837837837837838\n",
      "8 = 0.7783783783783784\n",
      "9 = 0.7837837837837838\n",
      "10 = 0.7945945945945946\n",
      "11 = 0.8\n",
      "12 = 0.7513513513513513\n",
      "13 = 0.7621621621621621\n",
      "14 = 0.772972972972973\n",
      "15 = 0.7837837837837838\n",
      "16 = 0.7567567567567568\n",
      "17 = 0.7783783783783784\n",
      "18 = 0.7837837837837838\n",
      "19 = 0.7837837837837838\n",
      "20 = 0.7567567567567568\n",
      "21 = 0.7675675675675676\n",
      "22 = 0.7675675675675676\n",
      "23 = 0.7675675675675676\n",
      "24 = 0.7567567567567568\n",
      "25 = 0.7891891891891892\n",
      "26 = 0.7621621621621621\n",
      "27 = 0.772972972972973\n",
      "28 = 0.7621621621621621\n",
      "29 = 0.7513513513513513\n",
      "30 = 0.7567567567567568\n",
      "31 = 0.7675675675675676\n",
      "32 = 0.7837837837837838\n",
      "33 = 0.7621621621621621\n",
      "34 = 0.7621621621621621\n",
      "35 = 0.7783783783783784\n",
      "36 = 0.772972972972973\n",
      "37 = 0.7675675675675676\n",
      "38 = 0.7783783783783784\n",
      "39 = 0.7621621621621621\n",
      "40 = 0.772972972972973\n",
      "41 = 0.7837837837837838\n",
      "42 = 0.7675675675675676\n",
      "43 = 0.7837837837837838\n",
      "44 = 0.772972972972973\n",
      "45 = 0.7621621621621621\n",
      "46 = 0.7837837837837838\n",
      "47 = 0.7783783783783784\n",
      "48 = 0.7621621621621621\n",
      "49 = 0.7783783783783784\n",
      "50 = 0.772972972972973\n"
     ]
    }
   ],
   "source": [
    "for i in range(1,51):\n",
    "    rf1 = RandomForestClassifier(max_depth=i)\n",
    "    rf1.fit(X_train,y_train)\n",
    "    y_pred = rf1.predict(X_test)\n",
    "    print(f\"{i} = {accuracy_score(y_test,y_pred)}\")"
   ]
  },
  {
   "cell_type": "markdown",
   "id": "71c755c5",
   "metadata": {},
   "source": [
    "_Here, the maximum accuracy is on index 11, so we will select max_depth = 11_"
   ]
  },
  {
   "cell_type": "code",
   "execution_count": 47,
   "id": "1e398114",
   "metadata": {},
   "outputs": [
    {
     "name": "stdout",
     "output_type": "stream",
     "text": [
      "2 = 0.7675675675675676\n",
      "3 = 0.7621621621621621\n",
      "4 = 0.7891891891891892\n",
      "5 = 0.7945945945945946\n",
      "6 = 0.7945945945945946\n",
      "7 = 0.7837837837837838\n",
      "8 = 0.7945945945945946\n",
      "9 = 0.7837837837837838\n",
      "10 = 0.8\n",
      "11 = 0.7783783783783784\n",
      "12 = 0.7891891891891892\n",
      "13 = 0.7891891891891892\n",
      "14 = 0.7945945945945946\n",
      "15 = 0.7891891891891892\n",
      "16 = 0.7891891891891892\n",
      "17 = 0.7837837837837838\n",
      "18 = 0.7891891891891892\n",
      "19 = 0.7891891891891892\n",
      "20 = 0.7891891891891892\n",
      "21 = 0.7837837837837838\n",
      "22 = 0.7891891891891892\n",
      "23 = 0.7837837837837838\n",
      "24 = 0.7891891891891892\n",
      "25 = 0.7891891891891892\n",
      "26 = 0.7891891891891892\n",
      "27 = 0.7837837837837838\n",
      "28 = 0.7891891891891892\n",
      "29 = 0.7891891891891892\n",
      "30 = 0.7837837837837838\n",
      "31 = 0.7891891891891892\n",
      "32 = 0.7837837837837838\n",
      "33 = 0.7891891891891892\n",
      "34 = 0.7891891891891892\n",
      "35 = 0.7837837837837838\n",
      "36 = 0.7837837837837838\n",
      "37 = 0.7891891891891892\n",
      "38 = 0.7837837837837838\n",
      "39 = 0.7945945945945946\n",
      "40 = 0.7891891891891892\n",
      "41 = 0.7837837837837838\n",
      "42 = 0.7837837837837838\n",
      "43 = 0.7837837837837838\n",
      "44 = 0.7837837837837838\n",
      "45 = 0.7891891891891892\n",
      "46 = 0.7837837837837838\n",
      "47 = 0.7837837837837838\n",
      "48 = 0.7837837837837838\n",
      "49 = 0.7891891891891892\n"
     ]
    }
   ],
   "source": [
    "for i in range(2,50):\n",
    "    rf2 = RandomForestClassifier(min_samples_split=i)\n",
    "    rf2.fit(X_train,y_train)\n",
    "    y_pred = rf2.predict(X_test)\n",
    "    print(f\"{i} = {accuracy_score(y_test,y_pred)}\")"
   ]
  },
  {
   "cell_type": "markdown",
   "id": "11de8b32",
   "metadata": {},
   "source": [
    "_Here, the maximum accuracy is on index 10, so we will select min_samples_split = 10_"
   ]
  },
  {
   "cell_type": "code",
   "execution_count": 48,
   "id": "351f37f5",
   "metadata": {},
   "outputs": [
    {
     "name": "stdout",
     "output_type": "stream",
     "text": [
      "1 = 0.7783783783783784\n",
      "2 = 0.772972972972973\n",
      "3 = 0.7783783783783784\n",
      "4 = 0.7837837837837838\n",
      "5 = 0.7837837837837838\n",
      "6 = 0.7837837837837838\n",
      "7 = 0.7837837837837838\n",
      "8 = 0.7837837837837838\n",
      "9 = 0.7837837837837838\n",
      "10 = 0.7837837837837838\n",
      "11 = 0.7837837837837838\n",
      "12 = 0.7837837837837838\n",
      "13 = 0.7837837837837838\n",
      "14 = 0.7783783783783784\n",
      "15 = 0.7783783783783784\n",
      "16 = 0.7837837837837838\n",
      "17 = 0.7837837837837838\n",
      "18 = 0.7837837837837838\n",
      "19 = 0.7837837837837838\n",
      "20 = 0.7621621621621621\n",
      "21 = 0.772972972972973\n",
      "22 = 0.7135135135135136\n",
      "23 = 0.745945945945946\n",
      "24 = 0.6918918918918919\n",
      "25 = 0.772972972972973\n",
      "26 = 0.6972972972972973\n",
      "27 = 0.6810810810810811\n",
      "28 = 0.7297297297297297\n",
      "29 = 0.7243243243243244\n",
      "30 = 0.6702702702702703\n",
      "31 = 0.6756756756756757\n",
      "32 = 0.6810810810810811\n",
      "33 = 0.7405405405405405\n",
      "34 = 0.6648648648648648\n",
      "35 = 0.6594594594594595\n",
      "36 = 0.6486486486486487\n",
      "37 = 0.6486486486486487\n",
      "38 = 0.6486486486486487\n",
      "39 = 0.6486486486486487\n",
      "40 = 0.6486486486486487\n",
      "41 = 0.6486486486486487\n",
      "42 = 0.6486486486486487\n",
      "43 = 0.6486486486486487\n",
      "44 = 0.6486486486486487\n",
      "45 = 0.6486486486486487\n",
      "46 = 0.6486486486486487\n",
      "47 = 0.6486486486486487\n",
      "48 = 0.6486486486486487\n",
      "49 = 0.6486486486486487\n",
      "50 = 0.6486486486486487\n"
     ]
    }
   ],
   "source": [
    "for i in range(1,51):\n",
    "    rf3 = RandomForestClassifier(min_samples_leaf=i)\n",
    "    rf3.fit(X_train,y_train)\n",
    "    y_pred = rf3.predict(X_test)\n",
    "    print(f\"{i} = {accuracy_score(y_test,y_pred)}\")"
   ]
  },
  {
   "cell_type": "markdown",
   "id": "8cfc3f0a",
   "metadata": {},
   "source": [
    "_Here, the maximum accuracy is on index 10, so we will select min_samples_leaf = 10_"
   ]
  },
  {
   "cell_type": "code",
   "execution_count": 49,
   "id": "4d127519",
   "metadata": {},
   "outputs": [
    {
     "name": "stdout",
     "output_type": "stream",
     "text": [
      "              precision    recall  f1-score   support\n",
      "\n",
      "           0       0.60      0.52      0.56        65\n",
      "           1       0.76      0.81      0.78       120\n",
      "\n",
      "    accuracy                           0.71       185\n",
      "   macro avg       0.68      0.67      0.67       185\n",
      "weighted avg       0.70      0.71      0.70       185\n",
      "\n"
     ]
    },
    {
     "data": {
      "text/plain": [
       "DecisionTreeClassifier(max_depth=11, min_samples_leaf=10, min_samples_split=10)"
      ]
     },
     "execution_count": 49,
     "metadata": {},
     "output_type": "execute_result"
    }
   ],
   "source": [
    "rf4 = DecisionTreeClassifier(max_depth=11,min_samples_leaf=10,min_samples_split=10)\n",
    "mymodel(rf4)"
   ]
  },
  {
   "cell_type": "code",
   "execution_count": 51,
   "id": "5b3586d0",
   "metadata": {},
   "outputs": [
    {
     "name": "stdout",
     "output_type": "stream",
     "text": [
      "0.8368298368298368\n",
      "0.7081081081081081\n"
     ]
    }
   ],
   "source": [
    "print(rf4.score(X_train,y_train))\n",
    "print(rf4.score(X_test,y_test))"
   ]
  },
  {
   "cell_type": "markdown",
   "id": "342ed6eb",
   "metadata": {},
   "source": [
    "### Creating model"
   ]
  },
  {
   "cell_type": "code",
   "execution_count": 59,
   "id": "d1124764",
   "metadata": {},
   "outputs": [],
   "source": [
    "# Function to predict loan approval\n",
    "def Predtest():\n",
    "    Gender = int(input(\"Enter the gender.\\nIf Male, enter 1.\\nIf Female, enter 0.\\nYou entered: \"))\n",
    "    Married = int(input(\"Enter if you are married or not.\\nIf Married, enter 1.\\nIf Single, enter 0.\\nYou entered: \"))\n",
    "    Dependents = int(input(\"Enter the number of dependents: \"))\n",
    "    Education = int(input(\"Enter the education.\\nIf graduated, enter 0.\\nIf Not Graduated, enter 1.\\nYou entered: \"))\n",
    "    Self_employed = int(input(\"Enter if you are self-employed or not.\\nIf Self Employed, enter 1.\\nIf Not Self Employed, enter 0.\\nYou entered: \"))\n",
    "    ApplicantIncome = int(input(\"Enter the applicant income: \"))\n",
    "    CoApplicantIncome = int(input(\"Enter the co-applicant income: \"))\n",
    "    LoanAmount = int(input(\"Enter the loan amount: \"))\n",
    "    LoanAmountTerm = int(input(\"Enter the loan term: \"))\n",
    "    CreditHistory = int(input(\"Enter the credit history.\\nIf any ongoing loan, enter 0.\\nIf no ongoing loan, enter 1.\\nYou entered: \"))\n",
    "    PropertyArea = int(input(\"Enter the property area.\\nIf Urban, enter 2.\\nIf Semi Urban, enter 1.\\nIf rural, enter 0.\\nYou entered: \"))\n",
    "    \n",
    "    newx = [Gender, Married, Dependents, Education, Self_employed, ApplicantIncome, CoApplicantIncome, LoanAmount, LoanAmountTerm, CreditHistory, PropertyArea]\n",
    "    # Assuming 'rf4' is your trained model\n",
    "    yp = rf4.predict([newx])[0]\n",
    "    \n",
    "    if yp == 1:\n",
    "        print(\"Congratulations! Your loan application is approved.\")\n",
    "    else:\n",
    "        print(\"Sorry, your loan application is not approved.\")"
   ]
  },
  {
   "cell_type": "markdown",
   "id": "1539eea7",
   "metadata": {},
   "source": [
    "_In order to check if our model is working properly or not, we need to test it._"
   ]
  },
  {
   "cell_type": "markdown",
   "id": "38a56c85",
   "metadata": {},
   "source": [
    "_Here we have some existing values of the given parameters for testing if the loan will get approved or not._"
   ]
  },
  {
   "cell_type": "markdown",
   "id": "9d1f7f48",
   "metadata": {},
   "source": [
    "### Model Testing"
   ]
  },
  {
   "cell_type": "markdown",
   "id": "79aabd67",
   "metadata": {},
   "source": [
    "#### Testing if our model is working properly or not."
   ]
  },
  {
   "cell_type": "markdown",
   "id": "3efee6b0",
   "metadata": {},
   "source": [
    ">Example:-\n",
    "- Gender = 1\n",
    "- Married = 0\n",
    "- Dependents = 0\n",
    "- Education = 0\n",
    "- Self_employed = 0\n",
    "- ApplicantIncome = 5849\n",
    "- CoApplicantIncome = 0\n",
    "- LoanAmount = 128\n",
    "- LoanAmountTerm = 360\n",
    "- CreditHistory = 1\n",
    "- PropertyArea = 2\n",
    "- LoanStatus = 1"
   ]
  },
  {
   "cell_type": "markdown",
   "id": "d18d3f7a",
   "metadata": {},
   "source": [
    "#### Here the loan will get approved"
   ]
  },
  {
   "cell_type": "code",
   "execution_count": 60,
   "id": "f87f9a34",
   "metadata": {},
   "outputs": [
    {
     "name": "stdout",
     "output_type": "stream",
     "text": [
      "Enter the gender.\n",
      "If Male, enter 1.\n",
      "If Female, enter 0.\n",
      "You entered: 1\n",
      "Enter if you are married or not.\n",
      "If Married, enter 1.\n",
      "If Single, enter 0.\n",
      "You entered: 0\n",
      "Enter the number of dependents: 0\n",
      "Enter the education.\n",
      "If graduated, enter 0.\n",
      "If Not Graduated, enter 1.\n",
      "You entered: 0\n",
      "Enter if you are self-employed or not.\n",
      "If Self Employed, enter 1.\n",
      "If Not Self Employed, enter 0.\n",
      "You entered: 0\n",
      "Enter the applicant income: 5849\n",
      "Enter the co-applicant income: 0\n",
      "Enter the loan amount: 128\n",
      "Enter the loan term: 360\n",
      "Enter the credit history.\n",
      "If any ongoing loan, enter 0.\n",
      "If no ongoing loan, enter 1.\n",
      "You entered: 1\n",
      "Enter the property area.\n",
      "If Urban, enter 2.\n",
      "If Semi Urban, enter 1.\n",
      "If rural, enter 0.\n",
      "You entered: 2\n",
      "Congratulations! Your loan application is approved.\n"
     ]
    }
   ],
   "source": [
    "# Call the function to predict loan approval\n",
    "Predtest()"
   ]
  },
  {
   "cell_type": "markdown",
   "id": "6d371f39",
   "metadata": {},
   "source": [
    "#### Here the loan will not get approved"
   ]
  },
  {
   "cell_type": "markdown",
   "id": "08ca14d5",
   "metadata": {},
   "source": [
    ">Example:-\n",
    "- Gender = 1\n",
    "- Married = 1\n",
    "- Dependents = 1\n",
    "- Education = 0\n",
    "- Self_employed = 0\n",
    "- ApplicantIncome = 4583\n",
    "- CoApplicantIncome = 1508\n",
    "- LoanAmount = 128\n",
    "- LoanAmountTerm = 360\n",
    "- CreditHistory = 1\n",
    "- PropertyArea = 0\n",
    "- LoanStatus = 0"
   ]
  },
  {
   "cell_type": "code",
   "execution_count": 62,
   "id": "9f6017b9",
   "metadata": {},
   "outputs": [
    {
     "name": "stdout",
     "output_type": "stream",
     "text": [
      "Enter the gender.\n",
      "If Male, enter 1.\n",
      "If Female, enter 0.\n",
      "You entered: 1\n",
      "Enter if you are married or not.\n",
      "If Married, enter 1.\n",
      "If Single, enter 0.\n",
      "You entered: 1\n",
      "Enter the number of dependents: 1\n",
      "Enter the education.\n",
      "If graduated, enter 0.\n",
      "If Not Graduated, enter 1.\n",
      "You entered: 0\n",
      "Enter if you are self-employed or not.\n",
      "If Self Employed, enter 1.\n",
      "If Not Self Employed, enter 0.\n",
      "You entered: 0\n",
      "Enter the applicant income: 4583\n",
      "Enter the co-applicant income: 1508\n",
      "Enter the loan amount: 128\n",
      "Enter the loan term: 360\n",
      "Enter the credit history.\n",
      "If any ongoing loan, enter 0.\n",
      "If no ongoing loan, enter 1.\n",
      "You entered: 1\n",
      "Enter the property area.\n",
      "If Urban, enter 2.\n",
      "If Semi Urban, enter 1.\n",
      "If rural, enter 0.\n",
      "You entered: 0\n",
      "Sorry, your loan application is not approved.\n"
     ]
    }
   ],
   "source": [
    "# Call the function to predict loan approval\n",
    "Predtest()"
   ]
  },
  {
   "cell_type": "markdown",
   "id": "9fe9ce7e",
   "metadata": {},
   "source": [
    "### Since both the outcome are correct. Our model is successful."
   ]
  },
  {
   "cell_type": "markdown",
   "id": "61495127",
   "metadata": {},
   "source": [
    "## Prescriptive Analysis"
   ]
  },
  {
   "cell_type": "markdown",
   "id": "ca36aad3",
   "metadata": {},
   "source": [
    "Certainly, let's break it down into simpler terms. Prescriptive analysis for a loan approval dataset involves making informed recommendations about whether to approve or reject loan applications. Here's how you can approach it in a more straightforward way:\n",
    "\n",
    "1. **Understand Key Factors:** First, identify which factors matter the most in deciding whether to approve a loan. Things like credit history, income, and the loan amount are typically crucial.\n",
    "\n",
    "2. **Set Rules:** Create a set of clear rules for making loan decisions. For example, if an applicant's credit score is above a certain level, you might approve the loan; if it's below that level, you might reject it.\n",
    "\n",
    "3. **Automate the Process:** Build a system that can automatically evaluate loan applications based on these rules. It can provide quick recommendations for approval or rejection.\n",
    "\n",
    "4. **Human Review:** For cases that don't fit neatly into the rules, include a step where a human expert can review and make a decision.\n",
    "\n",
    "5. **Keep Records:** Ensure that all decisions are well-documented for legal and regulatory purposes. Compliance is essential.\n",
    "\n",
    "6. **Regular Updates:** Your rules and the system should evolve over time. Update them to match changing market conditions and business needs.\n",
    "\n",
    "7. **Testing and Feedback:** Test how well your new approach works by comparing it with the old one. Collect feedback and adjust your rules as needed.\n",
    "\n",
    "8. **Monitoring and Reporting:** Keep an eye on how well your system is performing. Look at metrics like approval rates and how many loans are being repaid on time.\n",
    "\n",
    "9. **Scalability:** Make sure your system can handle a large number of loan applications efficiently, and consider using cloud-based solutions for flexibility.\n",
    "\n",
    "10. **Fairness:** Be aware of potential biases in your decision-making process. Regularly check for bias to ensure fair and equal loan approvals.\n"
   ]
  },
  {
   "cell_type": "code",
   "execution_count": null,
   "id": "37026297",
   "metadata": {},
   "outputs": [],
   "source": []
  },
  {
   "cell_type": "code",
   "execution_count": null,
   "id": "f0652d4d",
   "metadata": {},
   "outputs": [],
   "source": []
  },
  {
   "cell_type": "code",
   "execution_count": null,
   "id": "1b691022",
   "metadata": {},
   "outputs": [],
   "source": []
  }
 ],
 "metadata": {
  "kernelspec": {
   "display_name": "Python 3 (ipykernel)",
   "language": "python",
   "name": "python3"
  },
  "language_info": {
   "codemirror_mode": {
    "name": "ipython",
    "version": 3
   },
   "file_extension": ".py",
   "mimetype": "text/x-python",
   "name": "python",
   "nbconvert_exporter": "python",
   "pygments_lexer": "ipython3",
   "version": "3.9.12"
  },
  "papermill": {
   "default_parameters": {},
   "duration": 13.151849,
   "end_time": "2023-10-06T18:59:44.037711",
   "environment_variables": {},
   "exception": null,
   "input_path": "__notebook__.ipynb",
   "output_path": "__notebook__.ipynb",
   "parameters": {},
   "start_time": "2023-10-06T18:59:30.885862",
   "version": "2.4.0"
  }
 },
 "nbformat": 4,
 "nbformat_minor": 5
}
